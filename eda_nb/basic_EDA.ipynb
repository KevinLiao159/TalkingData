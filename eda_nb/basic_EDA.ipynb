{
 "cells": [
  {
   "cell_type": "markdown",
   "metadata": {},
   "source": [
    "## TalkingData AdTracking Fraud Detection Challenge\n",
    "https://www.kaggle.com/c/talkingdata-adtracking-fraud-detection\n",
    "\n",
    "1. This competition is a binary classification problem challenge. Kagglers are invited to classify users into \"fraudlent\" or \"not fraudlent\" as well as possible\n",
    "\n",
    "2. The evaluation metric is ROC-AUC (the area under a curve on a Receiver Operator Characteristic graph)\n",
    "\n",
    "3. There are three main datasets: train, test_supplement, test (for submission)\n"
   ]
  },
  {
   "cell_type": "code",
   "execution_count": 1,
   "metadata": {},
   "outputs": [
    {
     "data": {
      "text/html": [
       "<script>requirejs.config({paths: { 'plotly': ['https://cdn.plot.ly/plotly-latest.min']},});if(!window.Plotly) {{require(['plotly'],function(plotly) {window.Plotly=plotly;});}}</script>"
      ],
      "text/vnd.plotly.v1+html": [
       "<script>requirejs.config({paths: { 'plotly': ['https://cdn.plot.ly/plotly-latest.min']},});if(!window.Plotly) {{require(['plotly'],function(plotly) {window.Plotly=plotly;});}}</script>"
      ]
     },
     "metadata": {},
     "output_type": "display_data"
    }
   ],
   "source": [
    "import pandas as pd\n",
    "import numpy as np\n",
    "\n",
    "# klearn import\n",
    "from klearn.eda import PlotlyPlot\n",
    "\n",
    "train_columns = ['ip', 'app', 'device', 'os', 'channel', 'click_time', 'is_attributed']\n",
    "test_columns = ['ip', 'app', 'device', 'os', 'channel', 'click_time', 'click_id']\n",
    "dtype = {\n",
    "    'ip': 'uint32',\n",
    "    'app': 'uint16',\n",
    "    'device': 'uint16',\n",
    "    'os': 'uint16',\n",
    "    'channel': 'uint16',\n",
    "    'is_attributed': 'uint16',\n",
    "    'click_id': 'uint32'\n",
    "}\n",
    "# read data\n",
    "df_train = pd.read_csv(\n",
    "    filepath_or_buffer=\"../data/train.csv\",\n",
    "    usecols=train_columns,\n",
    "    dtype=dtype,\n",
    "    low_memory=True,\n",
    "    parse_dates=['click_time'],\n",
    "    infer_datetime_format=True,\n",
    "#     skiprows=range(1, 59709852),\n",
    "#     nrows=50000\n",
    ")\n",
    "df_test = pd.read_csv(\n",
    "    filepath_or_buffer=\"../data/test_supplement.csv\",\n",
    "    usecols=test_columns,\n",
    "    dtype=dtype,\n",
    "    low_memory=True,\n",
    "    parse_dates=['click_time'],\n",
    "    infer_datetime_format=True,\n",
    "#     skiprows=range(1,633),\n",
    "#     nrows=10000\n",
    ")\n",
    "df_test_submit = pd.read_csv(\n",
    "    filepath_or_buffer=\"../data/test.csv\",\n",
    "    usecols=test_columns,\n",
    "    dtype=dtype,\n",
    "    low_memory=True,\n",
    "    parse_dates=['click_time'],\n",
    "    infer_datetime_format=True,\n",
    ")"
   ]
  },
  {
   "cell_type": "markdown",
   "metadata": {},
   "source": [
    "## Let's look at file size and basic info"
   ]
  },
  {
   "cell_type": "code",
   "execution_count": 2,
   "metadata": {},
   "outputs": [
    {
     "name": "stdout",
     "output_type": "stream",
     "text": [
      "<class 'pandas.core.frame.DataFrame'>\n",
      "RangeIndex: 184903890 entries, 0 to 184903889\n",
      "Data columns (total 7 columns):\n",
      "ip               uint32\n",
      "app              uint16\n",
      "device           uint16\n",
      "os               uint16\n",
      "channel          uint16\n",
      "click_time       datetime64[ns]\n",
      "is_attributed    uint16\n",
      "dtypes: datetime64[ns](1), uint16(5), uint32(1)\n",
      "memory usage: 3.8 GB\n"
     ]
    }
   ],
   "source": [
    "df_train.info()"
   ]
  },
  {
   "cell_type": "code",
   "execution_count": 3,
   "metadata": {},
   "outputs": [
    {
     "name": "stdout",
     "output_type": "stream",
     "text": [
      "<class 'pandas.core.frame.DataFrame'>\n",
      "RangeIndex: 57537505 entries, 0 to 57537504\n",
      "Data columns (total 7 columns):\n",
      "click_id      uint32\n",
      "ip            uint32\n",
      "app           uint16\n",
      "device        uint16\n",
      "os            uint16\n",
      "channel       uint16\n",
      "click_time    datetime64[ns]\n",
      "dtypes: datetime64[ns](1), uint16(4), uint32(2)\n",
      "memory usage: 1.3 GB\n"
     ]
    }
   ],
   "source": [
    "df_test.info()"
   ]
  },
  {
   "cell_type": "code",
   "execution_count": 4,
   "metadata": {},
   "outputs": [
    {
     "name": "stdout",
     "output_type": "stream",
     "text": [
      "<class 'pandas.core.frame.DataFrame'>\n",
      "RangeIndex: 18790469 entries, 0 to 18790468\n",
      "Data columns (total 7 columns):\n",
      "click_id      uint32\n",
      "ip            uint32\n",
      "app           uint16\n",
      "device        uint16\n",
      "os            uint16\n",
      "channel       uint16\n",
      "click_time    datetime64[ns]\n",
      "dtypes: datetime64[ns](1), uint16(4), uint32(2)\n",
      "memory usage: 430.1 MB\n"
     ]
    }
   ],
   "source": [
    "df_test_submit.info()"
   ]
  },
  {
   "cell_type": "markdown",
   "metadata": {},
   "source": [
    "Wow! We can see that this is some really big data. For those who don't have a decent amount of memory space in their machine, they need to use some tricks (eg. chunksize loading, hashing tricks, OGD) to get through this challenges.\n",
    "Here are some note about the data:\n",
    "1. We don't need to handle Nans\n",
    "2. Besides 'click_time', all other features are integer type"
   ]
  },
  {
   "cell_type": "markdown",
   "metadata": {},
   "source": [
    "## Looking at the columns\n",
    "According to the data page, our data contains:\n",
    "\n",
    "- ip: ip address of click\n",
    "- app: app id for marketing\n",
    "- device: device type id of user mobile phone (e.g., iphone 6 plus, iphone 7, huawei mate 7, etc.)\n",
    "- os: os version id of user mobile phone\n",
    "- channel: channel id of mobile ad publisher\n",
    "- click_time: timestamp of click (UTC)\n",
    "- attributed_time: if user download the app for after clicking an ad, this is the time of the app download\n",
    "- is_attributed: the target that is to be predicted, indicating the app was downloaded"
   ]
  },
  {
   "cell_type": "code",
   "execution_count": 5,
   "metadata": {},
   "outputs": [
    {
     "data": {
      "text/html": [
       "<div>\n",
       "<style>\n",
       "    .dataframe thead tr:only-child th {\n",
       "        text-align: right;\n",
       "    }\n",
       "\n",
       "    .dataframe thead th {\n",
       "        text-align: left;\n",
       "    }\n",
       "\n",
       "    .dataframe tbody tr th {\n",
       "        vertical-align: top;\n",
       "    }\n",
       "</style>\n",
       "<table border=\"1\" class=\"dataframe\">\n",
       "  <thead>\n",
       "    <tr style=\"text-align: right;\">\n",
       "      <th></th>\n",
       "      <th>ip</th>\n",
       "      <th>app</th>\n",
       "      <th>device</th>\n",
       "      <th>os</th>\n",
       "      <th>channel</th>\n",
       "      <th>click_time</th>\n",
       "      <th>is_attributed</th>\n",
       "    </tr>\n",
       "  </thead>\n",
       "  <tbody>\n",
       "    <tr>\n",
       "      <th>0</th>\n",
       "      <td>83230</td>\n",
       "      <td>3</td>\n",
       "      <td>1</td>\n",
       "      <td>13</td>\n",
       "      <td>379</td>\n",
       "      <td>2017-11-06 14:32:21</td>\n",
       "      <td>0</td>\n",
       "    </tr>\n",
       "    <tr>\n",
       "      <th>1</th>\n",
       "      <td>17357</td>\n",
       "      <td>3</td>\n",
       "      <td>1</td>\n",
       "      <td>19</td>\n",
       "      <td>379</td>\n",
       "      <td>2017-11-06 14:33:34</td>\n",
       "      <td>0</td>\n",
       "    </tr>\n",
       "    <tr>\n",
       "      <th>2</th>\n",
       "      <td>35810</td>\n",
       "      <td>3</td>\n",
       "      <td>1</td>\n",
       "      <td>13</td>\n",
       "      <td>379</td>\n",
       "      <td>2017-11-06 14:34:12</td>\n",
       "      <td>0</td>\n",
       "    </tr>\n",
       "    <tr>\n",
       "      <th>3</th>\n",
       "      <td>45745</td>\n",
       "      <td>14</td>\n",
       "      <td>1</td>\n",
       "      <td>13</td>\n",
       "      <td>478</td>\n",
       "      <td>2017-11-06 14:34:52</td>\n",
       "      <td>0</td>\n",
       "    </tr>\n",
       "    <tr>\n",
       "      <th>4</th>\n",
       "      <td>161007</td>\n",
       "      <td>3</td>\n",
       "      <td>1</td>\n",
       "      <td>13</td>\n",
       "      <td>379</td>\n",
       "      <td>2017-11-06 14:35:08</td>\n",
       "      <td>0</td>\n",
       "    </tr>\n",
       "  </tbody>\n",
       "</table>\n",
       "</div>"
      ],
      "text/plain": [
       "       ip  app  device  os  channel          click_time  is_attributed\n",
       "0   83230    3       1  13      379 2017-11-06 14:32:21              0\n",
       "1   17357    3       1  19      379 2017-11-06 14:33:34              0\n",
       "2   35810    3       1  13      379 2017-11-06 14:34:12              0\n",
       "3   45745   14       1  13      478 2017-11-06 14:34:52              0\n",
       "4  161007    3       1  13      379 2017-11-06 14:35:08              0"
      ]
     },
     "execution_count": 5,
     "metadata": {},
     "output_type": "execute_result"
    }
   ],
   "source": [
    "df_train.head()"
   ]
  },
  {
   "cell_type": "markdown",
   "metadata": {},
   "source": [
    "Some note:\n",
    "1. 'is_attributed' is the target variable (only 1 and 0)\n",
    "2. Data is organized in timestamp sequence (ordered by 'click_time' ASCD)\n",
    "3. Besides 'click_time', all other variables are categorical."
   ]
  },
  {
   "cell_type": "code",
   "execution_count": 6,
   "metadata": {},
   "outputs": [
    {
     "data": {
      "application/vnd.plotly.v1+json": {
       "data": [
        {
         "marker": {
          "color": "lightblue",
          "line": {
           "width": 2
          }
         },
         "opacity": 0.6,
         "text": [
          277396,
          706,
          3475,
          800,
          202
         ],
         "textposition": "auto",
         "type": "bar",
         "x": [
          "ip",
          "app",
          "device",
          "os",
          "channel"
         ],
         "y": [
          12.533201367148234,
          6.559615237493242,
          8.153349757998892,
          6.684611727667927,
          5.308267697401205
         ]
        }
       ],
       "layout": {
        "height": 500,
        "margin": {
         "b": 85,
         "pad": 4,
         "t": 65
        },
        "title": "Number of Unique Values Per Feature",
        "width": 900,
        "xaxis": {
         "title": "features"
        },
        "yaxis": {
         "title": "log(unique count)"
        }
       }
      },
      "text/html": [
       "<div id=\"56f65cda-59f3-4d35-9bd0-b8038eade709\" style=\"height: 500px; width: 900px;\" class=\"plotly-graph-div\"></div><script type=\"text/javascript\">require([\"plotly\"], function(Plotly) { window.PLOTLYENV=window.PLOTLYENV || {};window.PLOTLYENV.BASE_URL=\"https://plot.ly\";Plotly.newPlot(\"56f65cda-59f3-4d35-9bd0-b8038eade709\", [{\"type\": \"bar\", \"x\": [\"ip\", \"app\", \"device\", \"os\", \"channel\"], \"y\": [12.533201367148234, 6.559615237493242, 8.153349757998892, 6.684611727667927, 5.308267697401205], \"text\": [277396, 706, 3475, 800, 202], \"textposition\": \"auto\", \"marker\": {\"color\": \"lightblue\", \"line\": {\"width\": 2}}, \"opacity\": 0.6}], {\"title\": \"Number of Unique Values Per Feature\", \"yaxis\": {\"title\": \"log(unique count)\"}, \"xaxis\": {\"title\": \"features\"}, \"width\": 900, \"height\": 500, \"margin\": {\"t\": 65, \"b\": 85, \"pad\": 4}}, {\"showLink\": true, \"linkText\": \"Export to plot.ly\"})});</script>"
      ],
      "text/vnd.plotly.v1+html": [
       "<div id=\"56f65cda-59f3-4d35-9bd0-b8038eade709\" style=\"height: 500px; width: 900px;\" class=\"plotly-graph-div\"></div><script type=\"text/javascript\">require([\"plotly\"], function(Plotly) { window.PLOTLYENV=window.PLOTLYENV || {};window.PLOTLYENV.BASE_URL=\"https://plot.ly\";Plotly.newPlot(\"56f65cda-59f3-4d35-9bd0-b8038eade709\", [{\"type\": \"bar\", \"x\": [\"ip\", \"app\", \"device\", \"os\", \"channel\"], \"y\": [12.533201367148234, 6.559615237493242, 8.153349757998892, 6.684611727667927, 5.308267697401205], \"text\": [277396, 706, 3475, 800, 202], \"textposition\": \"auto\", \"marker\": {\"color\": \"lightblue\", \"line\": {\"width\": 2}}, \"opacity\": 0.6}], {\"title\": \"Number of Unique Values Per Feature\", \"yaxis\": {\"title\": \"log(unique count)\"}, \"xaxis\": {\"title\": \"features\"}, \"width\": 900, \"height\": 500, \"margin\": {\"t\": 65, \"b\": 85, \"pad\": 4}}, {\"showLink\": true, \"linkText\": \"Export to plot.ly\"})});</script>"
      ]
     },
     "metadata": {},
     "output_type": "display_data"
    }
   ],
   "source": [
    "# Let's do unique counts on other variables\n",
    "cols = ['ip', 'app', 'device', 'os', 'channel']\n",
    "uniques = [len(df_train[col].unique()) for col in cols]\n",
    "log_uniques = [np.log(unique) for unique in uniques]\n",
    "# plot\n",
    "plotly_plot = PlotlyPlot(\n",
    "    title='Number of Unique Values Per Feature', \n",
    "    yaxis={'title': 'log(unique count)'}, \n",
    "    xaxis={'title': 'features'})\n",
    "plotly_plot.barplot(\n",
    "    x=cols, \n",
    "    y=log_uniques, \n",
    "    text=uniques,\n",
    "    marker_attribute={\n",
    "        'color': 'lightblue',\n",
    "        'line': {'width': 2}\n",
    "    }\n",
    ")"
   ]
  },
  {
   "cell_type": "markdown",
   "metadata": {},
   "source": [
    "If you look at the data samples above, you'll notice that all these variables are encoded - meaning we don't know what the actual value corresponds to - each value has instead been assigned an ID which we're given. This has likely been done because data such as IP addresses are sensitive, although it does unfortunately reduce the amount of feature engineering we can do on these."
   ]
  },
  {
   "cell_type": "markdown",
   "metadata": {},
   "source": [
    "## Look at the target variable"
   ]
  },
  {
   "cell_type": "code",
   "execution_count": 7,
   "metadata": {},
   "outputs": [
    {
     "data": {
      "application/vnd.plotly.v1+json": {
       "data": [
        {
         "marker": {
          "color": "lightblue",
          "line": {
           "width": 2
          }
         },
         "opacity": 0.6,
         "text": [
          "0.25%",
          "99.75%"
         ],
         "textposition": "auto",
         "type": "bar",
         "width": [
          0.5,
          0.5
         ],
         "x": [
          "fraudulant",
          "not fraudulant"
         ],
         "y": [
          0.002470721410998979,
          0.997529278589001
         ]
        }
       ],
       "layout": {
        "height": 500,
        "margin": {
         "b": 85,
         "pad": 4,
         "t": 65
        },
        "title": "Taget Variable (In Training) Distribution",
        "width": 900,
        "xaxis": {
         "title": "Taget Value"
        },
        "yaxis": {
         "title": "proportion"
        }
       }
      },
      "text/html": [
       "<div id=\"59646948-8407-4da1-b104-1bfa3e094fc7\" style=\"height: 500px; width: 900px;\" class=\"plotly-graph-div\"></div><script type=\"text/javascript\">require([\"plotly\"], function(Plotly) { window.PLOTLYENV=window.PLOTLYENV || {};window.PLOTLYENV.BASE_URL=\"https://plot.ly\";Plotly.newPlot(\"59646948-8407-4da1-b104-1bfa3e094fc7\", [{\"type\": \"bar\", \"x\": [\"fraudulant\", \"not fraudulant\"], \"y\": [0.002470721410998979, 0.997529278589001], \"text\": [\"0.25%\", \"99.75%\"], \"textposition\": \"auto\", \"marker\": {\"color\": \"lightblue\", \"line\": {\"width\": 2}}, \"opacity\": 0.6, \"width\": [0.5, 0.5]}], {\"title\": \"Taget Variable (In Training) Distribution\", \"yaxis\": {\"title\": \"proportion\"}, \"xaxis\": {\"title\": \"Taget Value\"}, \"width\": 900, \"height\": 500, \"margin\": {\"t\": 65, \"b\": 85, \"pad\": 4}}, {\"showLink\": true, \"linkText\": \"Export to plot.ly\"})});</script>"
      ],
      "text/vnd.plotly.v1+html": [
       "<div id=\"59646948-8407-4da1-b104-1bfa3e094fc7\" style=\"height: 500px; width: 900px;\" class=\"plotly-graph-div\"></div><script type=\"text/javascript\">require([\"plotly\"], function(Plotly) { window.PLOTLYENV=window.PLOTLYENV || {};window.PLOTLYENV.BASE_URL=\"https://plot.ly\";Plotly.newPlot(\"59646948-8407-4da1-b104-1bfa3e094fc7\", [{\"type\": \"bar\", \"x\": [\"fraudulant\", \"not fraudulant\"], \"y\": [0.002470721410998979, 0.997529278589001], \"text\": [\"0.25%\", \"99.75%\"], \"textposition\": \"auto\", \"marker\": {\"color\": \"lightblue\", \"line\": {\"width\": 2}}, \"opacity\": 0.6, \"width\": [0.5, 0.5]}], {\"title\": \"Taget Variable (In Training) Distribution\", \"yaxis\": {\"title\": \"proportion\"}, \"xaxis\": {\"title\": \"Taget Value\"}, \"width\": 900, \"height\": 500, \"margin\": {\"t\": 65, \"b\": 85, \"pad\": 4}}, {\"showLink\": true, \"linkText\": \"Export to plot.ly\"})});</script>"
      ]
     },
     "metadata": {},
     "output_type": "display_data"
    }
   ],
   "source": [
    "true_proportion = (df_train.is_attributed.values == 1).mean()\n",
    "false_proportion = 1 - true_proportion\n",
    "data_list = [true_proportion, false_proportion]\n",
    "text_list = [\"{:.2%}\".format(v) for v in data_list]\n",
    "# plot\n",
    "plotly_plot = PlotlyPlot(\n",
    "    title='Taget Variable (In Training) Distribution', \n",
    "    yaxis={'title': 'proportion'}, \n",
    "    xaxis={'title': 'Taget Value'})\n",
    "plotly_plot.barplot(\n",
    "    x=['fraudulant', 'not fraudulant'], \n",
    "    y=data_list,\n",
    "    text=text_list,\n",
    "    marker_attribute={\n",
    "        'color': 'lightblue',\n",
    "        'line': {'width': 2}\n",
    "    },\n",
    "    **{'width': [0.5, 0.5]}\n",
    ")"
   ]
  },
  {
   "cell_type": "markdown",
   "metadata": {},
   "source": [
    "Wow, that's a really imbalanced dataset. Only 0.2% of the dataset is made up of fraudulent clicks. This means that any models we run on the data will either need to be robust against class imbalance or will require some data resampling."
   ]
  },
  {
   "cell_type": "markdown",
   "metadata": {},
   "source": [
    "## Look at some time series pattern"
   ]
  },
  {
   "cell_type": "code",
   "execution_count": 8,
   "metadata": {},
   "outputs": [
    {
     "data": {
      "application/vnd.plotly.v1+json": {
       "data": [
        {
         "line": {},
         "marker": {},
         "mode": "lines",
         "name": 0,
         "type": "scatter",
         "x": [
          "2017-11-06 15:00:00",
          "2017-11-06 16:00:00",
          "2017-11-06 17:00:00",
          "2017-11-06 18:00:00",
          "2017-11-06 19:00:00",
          "2017-11-06 20:00:00",
          "2017-11-06 21:00:00",
          "2017-11-06 22:00:00",
          "2017-11-06 23:00:00",
          "2017-11-07",
          "2017-11-07 01:00:00",
          "2017-11-07 02:00:00",
          "2017-11-07 03:00:00",
          "2017-11-07 04:00:00",
          "2017-11-07 05:00:00",
          "2017-11-07 06:00:00",
          "2017-11-07 07:00:00",
          "2017-11-07 08:00:00",
          "2017-11-07 09:00:00",
          "2017-11-07 10:00:00",
          "2017-11-07 11:00:00",
          "2017-11-07 12:00:00",
          "2017-11-07 13:00:00",
          "2017-11-07 14:00:00",
          "2017-11-07 15:00:00",
          "2017-11-07 16:00:00",
          "2017-11-07 17:00:00",
          "2017-11-07 18:00:00",
          "2017-11-07 19:00:00",
          "2017-11-07 20:00:00",
          "2017-11-07 21:00:00",
          "2017-11-07 22:00:00",
          "2017-11-07 23:00:00",
          "2017-11-08",
          "2017-11-08 01:00:00",
          "2017-11-08 02:00:00",
          "2017-11-08 03:00:00",
          "2017-11-08 04:00:00",
          "2017-11-08 05:00:00",
          "2017-11-08 06:00:00",
          "2017-11-08 07:00:00",
          "2017-11-08 08:00:00",
          "2017-11-08 09:00:00",
          "2017-11-08 10:00:00",
          "2017-11-08 11:00:00",
          "2017-11-08 12:00:00",
          "2017-11-08 13:00:00",
          "2017-11-08 14:00:00",
          "2017-11-08 15:00:00",
          "2017-11-08 16:00:00",
          "2017-11-08 17:00:00",
          "2017-11-08 18:00:00",
          "2017-11-08 19:00:00",
          "2017-11-08 20:00:00",
          "2017-11-08 21:00:00",
          "2017-11-08 22:00:00",
          "2017-11-08 23:00:00",
          "2017-11-09",
          "2017-11-09 01:00:00",
          "2017-11-09 02:00:00",
          "2017-11-09 03:00:00",
          "2017-11-09 04:00:00",
          "2017-11-09 05:00:00",
          "2017-11-09 06:00:00",
          "2017-11-09 07:00:00",
          "2017-11-09 08:00:00",
          "2017-11-09 09:00:00",
          "2017-11-09 10:00:00",
          "2017-11-09 11:00:00",
          "2017-11-09 12:00:00",
          "2017-11-09 13:00:00",
          "2017-11-09 14:00:00",
          "2017-11-09 15:00:00",
          "2017-11-09 16:00:00"
         ],
         "y": [
          83,
          1312093,
          1728211,
          943727,
          599021,
          430979,
          432155,
          753622,
          1781349,
          3118726,
          3502938,
          3188631,
          3112530,
          3423752,
          3520025,
          3043092,
          2896695,
          2874600,
          2864322,
          3104988,
          3286130,
          3048607,
          3072382,
          3277097,
          3028765,
          2690189,
          1727091,
          941810,
          577768,
          432010,
          435967,
          744568,
          1753695,
          3057637,
          3341352,
          3165247,
          3462315,
          3339301,
          3414385,
          3027646,
          3057186,
          3104887,
          2968731,
          3263453,
          3366870,
          3482776,
          3548294,
          3672713,
          3657446,
          2876412,
          1867184,
          1038831,
          644754,
          484712,
          465596,
          806046,
          1821067,
          2981504,
          3200586,
          3057864,
          3127101,
          3709960,
          3964592,
          3587484,
          3505791,
          2846790,
          2881882,
          3158416,
          3321699,
          3362909,
          3396265,
          3528345,
          3284045,
          1406198
         ]
        }
       ],
       "layout": {
        "height": 500,
        "margin": {
         "b": 60,
         "pad": 4,
         "t": 65
        },
        "title": "Number of Clicks (Train) Time Series",
        "width": 900,
        "xaxis": {
         "title": "time stamp"
        },
        "yaxis": {
         "title": "number of clicks"
        }
       }
      },
      "text/html": [
       "<div id=\"ab56c701-9026-422b-9e5a-d12d7a5e6eda\" style=\"height: 500px; width: 900px;\" class=\"plotly-graph-div\"></div><script type=\"text/javascript\">require([\"plotly\"], function(Plotly) { window.PLOTLYENV=window.PLOTLYENV || {};window.PLOTLYENV.BASE_URL=\"https://plot.ly\";Plotly.newPlot(\"ab56c701-9026-422b-9e5a-d12d7a5e6eda\", [{\"type\": \"scatter\", \"x\": [\"2017-11-06 15:00:00\", \"2017-11-06 16:00:00\", \"2017-11-06 17:00:00\", \"2017-11-06 18:00:00\", \"2017-11-06 19:00:00\", \"2017-11-06 20:00:00\", \"2017-11-06 21:00:00\", \"2017-11-06 22:00:00\", \"2017-11-06 23:00:00\", \"2017-11-07\", \"2017-11-07 01:00:00\", \"2017-11-07 02:00:00\", \"2017-11-07 03:00:00\", \"2017-11-07 04:00:00\", \"2017-11-07 05:00:00\", \"2017-11-07 06:00:00\", \"2017-11-07 07:00:00\", \"2017-11-07 08:00:00\", \"2017-11-07 09:00:00\", \"2017-11-07 10:00:00\", \"2017-11-07 11:00:00\", \"2017-11-07 12:00:00\", \"2017-11-07 13:00:00\", \"2017-11-07 14:00:00\", \"2017-11-07 15:00:00\", \"2017-11-07 16:00:00\", \"2017-11-07 17:00:00\", \"2017-11-07 18:00:00\", \"2017-11-07 19:00:00\", \"2017-11-07 20:00:00\", \"2017-11-07 21:00:00\", \"2017-11-07 22:00:00\", \"2017-11-07 23:00:00\", \"2017-11-08\", \"2017-11-08 01:00:00\", \"2017-11-08 02:00:00\", \"2017-11-08 03:00:00\", \"2017-11-08 04:00:00\", \"2017-11-08 05:00:00\", \"2017-11-08 06:00:00\", \"2017-11-08 07:00:00\", \"2017-11-08 08:00:00\", \"2017-11-08 09:00:00\", \"2017-11-08 10:00:00\", \"2017-11-08 11:00:00\", \"2017-11-08 12:00:00\", \"2017-11-08 13:00:00\", \"2017-11-08 14:00:00\", \"2017-11-08 15:00:00\", \"2017-11-08 16:00:00\", \"2017-11-08 17:00:00\", \"2017-11-08 18:00:00\", \"2017-11-08 19:00:00\", \"2017-11-08 20:00:00\", \"2017-11-08 21:00:00\", \"2017-11-08 22:00:00\", \"2017-11-08 23:00:00\", \"2017-11-09\", \"2017-11-09 01:00:00\", \"2017-11-09 02:00:00\", \"2017-11-09 03:00:00\", \"2017-11-09 04:00:00\", \"2017-11-09 05:00:00\", \"2017-11-09 06:00:00\", \"2017-11-09 07:00:00\", \"2017-11-09 08:00:00\", \"2017-11-09 09:00:00\", \"2017-11-09 10:00:00\", \"2017-11-09 11:00:00\", \"2017-11-09 12:00:00\", \"2017-11-09 13:00:00\", \"2017-11-09 14:00:00\", \"2017-11-09 15:00:00\", \"2017-11-09 16:00:00\"], \"y\": [83, 1312093, 1728211, 943727, 599021, 430979, 432155, 753622, 1781349, 3118726, 3502938, 3188631, 3112530, 3423752, 3520025, 3043092, 2896695, 2874600, 2864322, 3104988, 3286130, 3048607, 3072382, 3277097, 3028765, 2690189, 1727091, 941810, 577768, 432010, 435967, 744568, 1753695, 3057637, 3341352, 3165247, 3462315, 3339301, 3414385, 3027646, 3057186, 3104887, 2968731, 3263453, 3366870, 3482776, 3548294, 3672713, 3657446, 2876412, 1867184, 1038831, 644754, 484712, 465596, 806046, 1821067, 2981504, 3200586, 3057864, 3127101, 3709960, 3964592, 3587484, 3505791, 2846790, 2881882, 3158416, 3321699, 3362909, 3396265, 3528345, 3284045, 1406198], \"name\": 0, \"mode\": \"lines\", \"line\": {}, \"marker\": {}}], {\"title\": \"Number of Clicks (Train) Time Series\", \"yaxis\": {\"title\": \"number of clicks\"}, \"xaxis\": {\"title\": \"time stamp\"}, \"width\": 900, \"height\": 500, \"margin\": {\"t\": 65, \"b\": 60, \"pad\": 4}}, {\"showLink\": true, \"linkText\": \"Export to plot.ly\"})});</script>"
      ],
      "text/vnd.plotly.v1+html": [
       "<div id=\"ab56c701-9026-422b-9e5a-d12d7a5e6eda\" style=\"height: 500px; width: 900px;\" class=\"plotly-graph-div\"></div><script type=\"text/javascript\">require([\"plotly\"], function(Plotly) { window.PLOTLYENV=window.PLOTLYENV || {};window.PLOTLYENV.BASE_URL=\"https://plot.ly\";Plotly.newPlot(\"ab56c701-9026-422b-9e5a-d12d7a5e6eda\", [{\"type\": \"scatter\", \"x\": [\"2017-11-06 15:00:00\", \"2017-11-06 16:00:00\", \"2017-11-06 17:00:00\", \"2017-11-06 18:00:00\", \"2017-11-06 19:00:00\", \"2017-11-06 20:00:00\", \"2017-11-06 21:00:00\", \"2017-11-06 22:00:00\", \"2017-11-06 23:00:00\", \"2017-11-07\", \"2017-11-07 01:00:00\", \"2017-11-07 02:00:00\", \"2017-11-07 03:00:00\", \"2017-11-07 04:00:00\", \"2017-11-07 05:00:00\", \"2017-11-07 06:00:00\", \"2017-11-07 07:00:00\", \"2017-11-07 08:00:00\", \"2017-11-07 09:00:00\", \"2017-11-07 10:00:00\", \"2017-11-07 11:00:00\", \"2017-11-07 12:00:00\", \"2017-11-07 13:00:00\", \"2017-11-07 14:00:00\", \"2017-11-07 15:00:00\", \"2017-11-07 16:00:00\", \"2017-11-07 17:00:00\", \"2017-11-07 18:00:00\", \"2017-11-07 19:00:00\", \"2017-11-07 20:00:00\", \"2017-11-07 21:00:00\", \"2017-11-07 22:00:00\", \"2017-11-07 23:00:00\", \"2017-11-08\", \"2017-11-08 01:00:00\", \"2017-11-08 02:00:00\", \"2017-11-08 03:00:00\", \"2017-11-08 04:00:00\", \"2017-11-08 05:00:00\", \"2017-11-08 06:00:00\", \"2017-11-08 07:00:00\", \"2017-11-08 08:00:00\", \"2017-11-08 09:00:00\", \"2017-11-08 10:00:00\", \"2017-11-08 11:00:00\", \"2017-11-08 12:00:00\", \"2017-11-08 13:00:00\", \"2017-11-08 14:00:00\", \"2017-11-08 15:00:00\", \"2017-11-08 16:00:00\", \"2017-11-08 17:00:00\", \"2017-11-08 18:00:00\", \"2017-11-08 19:00:00\", \"2017-11-08 20:00:00\", \"2017-11-08 21:00:00\", \"2017-11-08 22:00:00\", \"2017-11-08 23:00:00\", \"2017-11-09\", \"2017-11-09 01:00:00\", \"2017-11-09 02:00:00\", \"2017-11-09 03:00:00\", \"2017-11-09 04:00:00\", \"2017-11-09 05:00:00\", \"2017-11-09 06:00:00\", \"2017-11-09 07:00:00\", \"2017-11-09 08:00:00\", \"2017-11-09 09:00:00\", \"2017-11-09 10:00:00\", \"2017-11-09 11:00:00\", \"2017-11-09 12:00:00\", \"2017-11-09 13:00:00\", \"2017-11-09 14:00:00\", \"2017-11-09 15:00:00\", \"2017-11-09 16:00:00\"], \"y\": [83, 1312093, 1728211, 943727, 599021, 430979, 432155, 753622, 1781349, 3118726, 3502938, 3188631, 3112530, 3423752, 3520025, 3043092, 2896695, 2874600, 2864322, 3104988, 3286130, 3048607, 3072382, 3277097, 3028765, 2690189, 1727091, 941810, 577768, 432010, 435967, 744568, 1753695, 3057637, 3341352, 3165247, 3462315, 3339301, 3414385, 3027646, 3057186, 3104887, 2968731, 3263453, 3366870, 3482776, 3548294, 3672713, 3657446, 2876412, 1867184, 1038831, 644754, 484712, 465596, 806046, 1821067, 2981504, 3200586, 3057864, 3127101, 3709960, 3964592, 3587484, 3505791, 2846790, 2881882, 3158416, 3321699, 3362909, 3396265, 3528345, 3284045, 1406198], \"name\": 0, \"mode\": \"lines\", \"line\": {}, \"marker\": {}}], {\"title\": \"Number of Clicks (Train) Time Series\", \"yaxis\": {\"title\": \"number of clicks\"}, \"xaxis\": {\"title\": \"time stamp\"}, \"width\": 900, \"height\": 500, \"margin\": {\"t\": 65, \"b\": 60, \"pad\": 4}}, {\"showLink\": true, \"linkText\": \"Export to plot.ly\"})});</script>"
      ]
     },
     "metadata": {},
     "output_type": "display_data"
    }
   ],
   "source": [
    "# let's round timestamp to hour\n",
    "df_train['click_hour'] = df_train['click_time'].dt.round('H')\n",
    "num_clicks = df_train.groupby('click_hour').size()\n",
    "# plot\n",
    "plotly_plot = PlotlyPlot(\n",
    "    title='Number of Clicks (Train) Time Series', \n",
    "    yaxis={'title': 'number of clicks'}, \n",
    "    xaxis={'title': 'time stamp'})\n",
    "plotly_plot.lineplot(\n",
    "    x=num_clicks.index, \n",
    "    y=num_clicks, \n",
    "\n",
    ")"
   ]
  },
  {
   "cell_type": "markdown",
   "metadata": {},
   "source": [
    "There is a definitely pattern in frequency of clicks based on time of day. And this behavior is consistent throughout the time all the way to out-of-sample data. We might want to get 'hour' as one the feature in dataset"
   ]
  },
  {
   "cell_type": "code",
   "execution_count": 9,
   "metadata": {},
   "outputs": [
    {
     "data": {
      "application/vnd.plotly.v1+json": {
       "data": [
        {
         "line": {},
         "marker": {},
         "mode": "lines",
         "name": 0,
         "type": "scatter",
         "x": [
          "2017-11-09 14:00:00",
          "2017-11-09 15:00:00",
          "2017-11-09 16:00:00",
          "2017-11-09 17:00:00",
          "2017-11-09 18:00:00",
          "2017-11-09 19:00:00",
          "2017-11-09 20:00:00",
          "2017-11-09 21:00:00",
          "2017-11-09 22:00:00",
          "2017-11-09 23:00:00",
          "2017-11-10",
          "2017-11-10 01:00:00",
          "2017-11-10 02:00:00",
          "2017-11-10 03:00:00",
          "2017-11-10 04:00:00",
          "2017-11-10 05:00:00",
          "2017-11-10 06:00:00",
          "2017-11-10 07:00:00",
          "2017-11-10 08:00:00",
          "2017-11-10 09:00:00",
          "2017-11-10 10:00:00",
          "2017-11-10 11:00:00",
          "2017-11-10 12:00:00",
          "2017-11-10 13:00:00",
          "2017-11-10 14:00:00",
          "2017-11-10 15:00:00",
          "2017-11-10 16:00:00"
         ],
         "y": [
          11,
          101,
          1436944,
          1796918,
          954782,
          620048,
          461151,
          468882,
          843348,
          1878733,
          2901400,
          2923072,
          2774402,
          2761522,
          3176715,
          3126697,
          2689153,
          2637755,
          2762599,
          2957701,
          3043145,
          3224955,
          3122275,
          3094605,
          3347334,
          3119975,
          1413282
         ]
        }
       ],
       "layout": {
        "height": 500,
        "margin": {
         "b": 60,
         "pad": 4,
         "t": 65
        },
        "title": "Number of Clicks (Test) Time Series",
        "width": 900,
        "xaxis": {
         "title": "time stamp"
        },
        "yaxis": {
         "title": "number of clicks"
        }
       }
      },
      "text/html": [
       "<div id=\"588182c5-8e4c-4db4-942d-d6bd8707a126\" style=\"height: 500px; width: 900px;\" class=\"plotly-graph-div\"></div><script type=\"text/javascript\">require([\"plotly\"], function(Plotly) { window.PLOTLYENV=window.PLOTLYENV || {};window.PLOTLYENV.BASE_URL=\"https://plot.ly\";Plotly.newPlot(\"588182c5-8e4c-4db4-942d-d6bd8707a126\", [{\"type\": \"scatter\", \"x\": [\"2017-11-09 14:00:00\", \"2017-11-09 15:00:00\", \"2017-11-09 16:00:00\", \"2017-11-09 17:00:00\", \"2017-11-09 18:00:00\", \"2017-11-09 19:00:00\", \"2017-11-09 20:00:00\", \"2017-11-09 21:00:00\", \"2017-11-09 22:00:00\", \"2017-11-09 23:00:00\", \"2017-11-10\", \"2017-11-10 01:00:00\", \"2017-11-10 02:00:00\", \"2017-11-10 03:00:00\", \"2017-11-10 04:00:00\", \"2017-11-10 05:00:00\", \"2017-11-10 06:00:00\", \"2017-11-10 07:00:00\", \"2017-11-10 08:00:00\", \"2017-11-10 09:00:00\", \"2017-11-10 10:00:00\", \"2017-11-10 11:00:00\", \"2017-11-10 12:00:00\", \"2017-11-10 13:00:00\", \"2017-11-10 14:00:00\", \"2017-11-10 15:00:00\", \"2017-11-10 16:00:00\"], \"y\": [11, 101, 1436944, 1796918, 954782, 620048, 461151, 468882, 843348, 1878733, 2901400, 2923072, 2774402, 2761522, 3176715, 3126697, 2689153, 2637755, 2762599, 2957701, 3043145, 3224955, 3122275, 3094605, 3347334, 3119975, 1413282], \"name\": 0, \"mode\": \"lines\", \"line\": {}, \"marker\": {}}], {\"title\": \"Number of Clicks (Test) Time Series\", \"yaxis\": {\"title\": \"number of clicks\"}, \"xaxis\": {\"title\": \"time stamp\"}, \"width\": 900, \"height\": 500, \"margin\": {\"t\": 65, \"b\": 60, \"pad\": 4}}, {\"showLink\": true, \"linkText\": \"Export to plot.ly\"})});</script>"
      ],
      "text/vnd.plotly.v1+html": [
       "<div id=\"588182c5-8e4c-4db4-942d-d6bd8707a126\" style=\"height: 500px; width: 900px;\" class=\"plotly-graph-div\"></div><script type=\"text/javascript\">require([\"plotly\"], function(Plotly) { window.PLOTLYENV=window.PLOTLYENV || {};window.PLOTLYENV.BASE_URL=\"https://plot.ly\";Plotly.newPlot(\"588182c5-8e4c-4db4-942d-d6bd8707a126\", [{\"type\": \"scatter\", \"x\": [\"2017-11-09 14:00:00\", \"2017-11-09 15:00:00\", \"2017-11-09 16:00:00\", \"2017-11-09 17:00:00\", \"2017-11-09 18:00:00\", \"2017-11-09 19:00:00\", \"2017-11-09 20:00:00\", \"2017-11-09 21:00:00\", \"2017-11-09 22:00:00\", \"2017-11-09 23:00:00\", \"2017-11-10\", \"2017-11-10 01:00:00\", \"2017-11-10 02:00:00\", \"2017-11-10 03:00:00\", \"2017-11-10 04:00:00\", \"2017-11-10 05:00:00\", \"2017-11-10 06:00:00\", \"2017-11-10 07:00:00\", \"2017-11-10 08:00:00\", \"2017-11-10 09:00:00\", \"2017-11-10 10:00:00\", \"2017-11-10 11:00:00\", \"2017-11-10 12:00:00\", \"2017-11-10 13:00:00\", \"2017-11-10 14:00:00\", \"2017-11-10 15:00:00\", \"2017-11-10 16:00:00\"], \"y\": [11, 101, 1436944, 1796918, 954782, 620048, 461151, 468882, 843348, 1878733, 2901400, 2923072, 2774402, 2761522, 3176715, 3126697, 2689153, 2637755, 2762599, 2957701, 3043145, 3224955, 3122275, 3094605, 3347334, 3119975, 1413282], \"name\": 0, \"mode\": \"lines\", \"line\": {}, \"marker\": {}}], {\"title\": \"Number of Clicks (Test) Time Series\", \"yaxis\": {\"title\": \"number of clicks\"}, \"xaxis\": {\"title\": \"time stamp\"}, \"width\": 900, \"height\": 500, \"margin\": {\"t\": 65, \"b\": 60, \"pad\": 4}}, {\"showLink\": true, \"linkText\": \"Export to plot.ly\"})});</script>"
      ]
     },
     "metadata": {},
     "output_type": "display_data"
    }
   ],
   "source": [
    "# let's round timestamp to hour\n",
    "df_test['click_hour'] = df_test['click_time'].dt.round('H')\n",
    "num_clicks = df_test.groupby('click_hour').size()\n",
    "# plot\n",
    "plotly_plot = PlotlyPlot(\n",
    "    title='Number of Clicks (Test) Time Series', \n",
    "    yaxis={'title': 'number of clicks'}, \n",
    "    xaxis={'title': 'time stamp'})\n",
    "plotly_plot.lineplot(\n",
    "    x=num_clicks.index, \n",
    "    y=num_clicks, \n",
    "\n",
    ")"
   ]
  },
  {
   "cell_type": "code",
   "execution_count": 10,
   "metadata": {},
   "outputs": [
    {
     "data": {
      "application/vnd.plotly.v1+json": {
       "data": [
        {
         "line": {},
         "marker": {},
         "mode": "lines",
         "name": 0,
         "type": "scatter",
         "x": [
          "2017-11-10 04:00:00",
          "2017-11-10 05:00:00",
          "2017-11-10 06:00:00",
          "2017-11-10 09:00:00",
          "2017-11-10 10:00:00",
          "2017-11-10 11:00:00",
          "2017-11-10 13:00:00",
          "2017-11-10 14:00:00",
          "2017-11-10 15:00:00"
         ],
         "y": [
          1707153,
          3126697,
          1369083,
          1493238,
          3043145,
          1576831,
          1546977,
          3347334,
          1580011
         ]
        }
       ],
       "layout": {
        "height": 500,
        "margin": {
         "b": 60,
         "pad": 4,
         "t": 65
        },
        "title": "Number of Clicks (Test For Submission) Time Series",
        "width": 900,
        "xaxis": {
         "title": "time stamp"
        },
        "yaxis": {
         "title": "number of clicks"
        }
       }
      },
      "text/html": [
       "<div id=\"ef888d3b-a215-48bb-8517-b562f5002c62\" style=\"height: 500px; width: 900px;\" class=\"plotly-graph-div\"></div><script type=\"text/javascript\">require([\"plotly\"], function(Plotly) { window.PLOTLYENV=window.PLOTLYENV || {};window.PLOTLYENV.BASE_URL=\"https://plot.ly\";Plotly.newPlot(\"ef888d3b-a215-48bb-8517-b562f5002c62\", [{\"type\": \"scatter\", \"x\": [\"2017-11-10 04:00:00\", \"2017-11-10 05:00:00\", \"2017-11-10 06:00:00\", \"2017-11-10 09:00:00\", \"2017-11-10 10:00:00\", \"2017-11-10 11:00:00\", \"2017-11-10 13:00:00\", \"2017-11-10 14:00:00\", \"2017-11-10 15:00:00\"], \"y\": [1707153, 3126697, 1369083, 1493238, 3043145, 1576831, 1546977, 3347334, 1580011], \"name\": 0, \"mode\": \"lines\", \"line\": {}, \"marker\": {}}], {\"title\": \"Number of Clicks (Test For Submission) Time Series\", \"yaxis\": {\"title\": \"number of clicks\"}, \"xaxis\": {\"title\": \"time stamp\"}, \"width\": 900, \"height\": 500, \"margin\": {\"t\": 65, \"b\": 60, \"pad\": 4}}, {\"showLink\": true, \"linkText\": \"Export to plot.ly\"})});</script>"
      ],
      "text/vnd.plotly.v1+html": [
       "<div id=\"ef888d3b-a215-48bb-8517-b562f5002c62\" style=\"height: 500px; width: 900px;\" class=\"plotly-graph-div\"></div><script type=\"text/javascript\">require([\"plotly\"], function(Plotly) { window.PLOTLYENV=window.PLOTLYENV || {};window.PLOTLYENV.BASE_URL=\"https://plot.ly\";Plotly.newPlot(\"ef888d3b-a215-48bb-8517-b562f5002c62\", [{\"type\": \"scatter\", \"x\": [\"2017-11-10 04:00:00\", \"2017-11-10 05:00:00\", \"2017-11-10 06:00:00\", \"2017-11-10 09:00:00\", \"2017-11-10 10:00:00\", \"2017-11-10 11:00:00\", \"2017-11-10 13:00:00\", \"2017-11-10 14:00:00\", \"2017-11-10 15:00:00\"], \"y\": [1707153, 3126697, 1369083, 1493238, 3043145, 1576831, 1546977, 3347334, 1580011], \"name\": 0, \"mode\": \"lines\", \"line\": {}, \"marker\": {}}], {\"title\": \"Number of Clicks (Test For Submission) Time Series\", \"yaxis\": {\"title\": \"number of clicks\"}, \"xaxis\": {\"title\": \"time stamp\"}, \"width\": 900, \"height\": 500, \"margin\": {\"t\": 65, \"b\": 60, \"pad\": 4}}, {\"showLink\": true, \"linkText\": \"Export to plot.ly\"})});</script>"
      ]
     },
     "metadata": {},
     "output_type": "display_data"
    }
   ],
   "source": [
    "# let's round timestamp to hour\n",
    "df_test_submit['click_hour'] = df_test_submit['click_time'].dt.round('H')\n",
    "num_clicks = df_test_submit.groupby('click_hour').size()\n",
    "# plot\n",
    "plotly_plot = PlotlyPlot(\n",
    "    title='Number of Clicks (Test For Submission) Time Series', \n",
    "    yaxis={'title': 'number of clicks'}, \n",
    "    xaxis={'title': 'time stamp'})\n",
    "plotly_plot.lineplot(\n",
    "    x=num_clicks.index, \n",
    "    y=num_clicks, \n",
    "\n",
    ")"
   ]
  },
  {
   "cell_type": "markdown",
   "metadata": {},
   "source": [
    "There are a lot more clicks in some hours than other hours. As we can see there is a strong time pattern in this data. We definitely want to work some feature engineering around this time pattern."
   ]
  }
 ],
 "metadata": {
  "kernelspec": {
   "display_name": "Python 3",
   "language": "python",
   "name": "python3"
  },
  "language_info": {
   "codemirror_mode": {
    "name": "ipython",
    "version": 3
   },
   "file_extension": ".py",
   "mimetype": "text/x-python",
   "name": "python",
   "nbconvert_exporter": "python",
   "pygments_lexer": "ipython3",
   "version": "3.6.3"
  }
 },
 "nbformat": 4,
 "nbformat_minor": 2
}
