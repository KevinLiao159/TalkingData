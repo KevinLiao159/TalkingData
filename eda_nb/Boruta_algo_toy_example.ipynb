{
 "cells": [
  {
   "cell_type": "markdown",
   "metadata": {},
   "source": [
    "## TalkingData AdTracking Fraud Detection Challenge\n",
    "https://www.kaggle.com/c/talkingdata-adtracking-fraud-detection\n",
    "\n",
    "\n",
    "------------------\n",
    "\n",
    "\n",
    "### This notebook is meant to demo a feature selection algo -- Boruta all-relevant feature selection method\n",
    "\n",
    "Boruta repo: [boruta_py Github Link](https://github.com/scikit-learn-contrib/boruta_py)\n",
    "\n",
    "Boruta is an all relevant feature selection method, while most other are minimal optimal; this means it tries to find all features carrying information usable for prediction, rather than finding a possibly compact subset of features on which some classifier has a minimal error.\n",
    "\n",
    "\n",
    "There are three types of feature selection methods in general:\n",
    "\n",
    "* Filter Methods : filter methods are generally used as a preprocessing step. The selection of features is independent of any machine learning algorithm. Instead the features are selected on the basis of their scores in various statistical tests for their correlation with the outcome variable. Some common filter methods are Correlation metrics (Pearson, Spearman, Distance), Chi-Squared test, Anova, Fisher's Score etc.\n",
    "\n",
    "\n",
    "* Wrapper Methods : in wrapper methods, you try to use a subset of features and train a model using them. Based on the inferences that you draw from the previous model, you decide to add or remove features from the subset. Forward Selection, Backward elimination are some of the examples for wrapper methods.\n",
    "\n",
    "\n",
    "* Embedded Methods : these are the algorithms that have their own built-in feature selection methods. LASSO regression is one such example.\n",
    "\n",
    "\n",
    "### The Boruta Algorithm\n",
    "The Boruta algorithm is a wrapper built around the random forest classification algorithm. It tries to capture all the important, interesting features you might have in your dataset with respect to an outcome variable.\n",
    "\n",
    "\n",
    "* First, it duplicates the dataset, and shuffle the values in each column. These values are called shadow features. * Then, it trains a classifier, such as a Random Forest Classifier, on the dataset. By doing this, you ensure that you can have an idea of the importance -via the Mean Decrease Accuracy or Mean Decrease Impurity- for each of the features of your data set. The higher the score, the better or more important.\n",
    "\n",
    "\n",
    "* Then, the algorithm checks for each of your real features if they have higher importance. That is, whether the feature has a higher Z-score than the maximum Z-score of its shadow features than the best of the shadow features. If they do, it records this in a vector. These are called a hits. Next,it will continue with another iteration. After a predefined set of iterations, you will end up with a table of these hits. Remember: a Z-score is the number of standard deviations from the mean a data point is, for more info click here.\n",
    "\n",
    "\n",
    "* At every iteration, the algorithm compares the Z-scores of the shuffled copies of the features and the original features to see if the latter performed better than the former. If it does, the algorithm will mark the feature as important. In essence, the algorithm is trying to validate the importance of the feature by comparing with random shuffled copies, which increases the robustness. This is done by simply comparing the number of times a feature did better with the shadow features using a binomial distribution.\n",
    "\n",
    "\n",
    "* If a feature hasn't been recorded as a hit in say 15 iterations, you reject it and also remove it from the original matrix. After a set number of iterations -or if all the features have been either confirmed or rejected- you stop."
   ]
  },
  {
   "cell_type": "code",
   "execution_count": 1,
   "metadata": {},
   "outputs": [
    {
     "name": "stdout",
     "output_type": "stream",
     "text": [
      "Total memory in use before reading data: 0.10 GB\n"
     ]
    }
   ],
   "source": [
    "import os\n",
    "import psutil\n",
    "import time\n",
    "import pandas as pd\n",
    "import gc\n",
    "# sklearn imports\n",
    "from sklearn.ensemble import RandomForestClassifier\n",
    "# boruta imports\n",
    "from boruta import BorutaPy\n",
    "\n",
    "# memory\n",
    "process = psutil.Process(os.getpid())\n",
    "memused = process.memory_info().rss\n",
    "print('Total memory in use before reading data: {:.02f} GB'.format(memused/(2**30)))"
   ]
  },
  {
   "cell_type": "code",
   "execution_count": 2,
   "metadata": {},
   "outputs": [
    {
     "name": "stdout",
     "output_type": "stream",
     "text": [
      "Total memory in use after reading data: 1.50 GB \n"
     ]
    }
   ],
   "source": [
    "# # read data\n",
    "df_train = pd.read_hdf('../data/train_v3.hdf').tail(int(1e5)).fillna(0)\n",
    "# col\n",
    "target = 'is_attributed'\n",
    "features = [\n",
    "    'app',\n",
    "    'device',\n",
    "    'os',\n",
    "    'channel',\n",
    "    'hour',\n",
    "    'in_test_hh',\n",
    "    'ip_day_hour_clicks',\n",
    "    'ip_app_day_hour_clicks',\n",
    "    'ip_os_day_hour_clicks',\n",
    "    'ip_device_day_hour_clicks',\n",
    "    'ip_day_test_hh_clicks',\n",
    "    'ip_app_device_clicks',\n",
    "    'ip_app_device_day_clicks',\n",
    "    'ip_day_nunique_app',\n",
    "    'ip_day_nunique_device',\n",
    "    'ip_day_nunique_channel',\n",
    "    'ip_day_nunique_hour',\n",
    "    'ip_nunique_app',\n",
    "    'ip_nunique_device',\n",
    "    'ip_nunique_channel',\n",
    "    'ip_nunique_hour',\n",
    "    'app_day_nunique_channel',\n",
    "    'app_nunique_channel',\n",
    "    'ip_app_day_nunique_os',\n",
    "    'ip_app_nunique_os',\n",
    "    'ip_device_os_day_nunique_app',\n",
    "    'ip_device_os_nunique_app',\n",
    "    'ip_app_day_var_hour',\n",
    "    'ip_device_day_var_hour',\n",
    "    'ip_os_day_var_hour',\n",
    "    'ip_channel_day_var_hour',\n",
    "    'ip_app_os_var_hour',\n",
    "    'ip_app_channel_var_day',\n",
    "    'ip_app_channel_mean_hour',\n",
    "    'ip_day_cumcount',\n",
    "    'ip_cumcount',\n",
    "    'ip_app_day_cumcount',\n",
    "    'ip_app_cumcount',\n",
    "    'ip_device_os_day_cumcount',\n",
    "    'ip_device_os_cumcount',\n",
    "    'next_click',\n",
    "    'previous_click',\n",
    "]\n",
    "# dump X, y\n",
    "X = df_train[features]\n",
    "y = df_train[target]\n",
    "# clean up\n",
    "del df_train\n",
    "gc.collect()\n",
    "# memory status\n",
    "memused = process.memory_info().rss\n",
    "print('Total memory in use after reading data: {:.02f} GB '\n",
    "      ''.format(memused / (2 ** 30)))"
   ]
  },
  {
   "cell_type": "markdown",
   "metadata": {},
   "source": [
    "### Before feature pruning"
   ]
  },
  {
   "cell_type": "code",
   "execution_count": 15,
   "metadata": {},
   "outputs": [
    {
     "data": {
      "text/html": [
       "<div>\n",
       "<style>\n",
       "    .dataframe thead tr:only-child th {\n",
       "        text-align: right;\n",
       "    }\n",
       "\n",
       "    .dataframe thead th {\n",
       "        text-align: left;\n",
       "    }\n",
       "\n",
       "    .dataframe tbody tr th {\n",
       "        vertical-align: top;\n",
       "    }\n",
       "</style>\n",
       "<table border=\"1\" class=\"dataframe\">\n",
       "  <thead>\n",
       "    <tr style=\"text-align: right;\">\n",
       "      <th></th>\n",
       "      <th>app</th>\n",
       "      <th>device</th>\n",
       "      <th>os</th>\n",
       "      <th>channel</th>\n",
       "      <th>hour</th>\n",
       "      <th>in_test_hh</th>\n",
       "      <th>ip_day_hour_clicks</th>\n",
       "      <th>ip_app_day_hour_clicks</th>\n",
       "      <th>ip_os_day_hour_clicks</th>\n",
       "      <th>ip_device_day_hour_clicks</th>\n",
       "      <th>...</th>\n",
       "      <th>ip_app_channel_var_day</th>\n",
       "      <th>ip_app_channel_mean_hour</th>\n",
       "      <th>ip_day_cumcount</th>\n",
       "      <th>ip_cumcount</th>\n",
       "      <th>ip_app_day_cumcount</th>\n",
       "      <th>ip_app_cumcount</th>\n",
       "      <th>ip_device_os_day_cumcount</th>\n",
       "      <th>ip_device_os_cumcount</th>\n",
       "      <th>next_click</th>\n",
       "      <th>previous_click</th>\n",
       "    </tr>\n",
       "  </thead>\n",
       "  <tbody>\n",
       "    <tr>\n",
       "      <th>184803890</th>\n",
       "      <td>56</td>\n",
       "      <td>1</td>\n",
       "      <td>30</td>\n",
       "      <td>406</td>\n",
       "      <td>15</td>\n",
       "      <td>2</td>\n",
       "      <td>11373</td>\n",
       "      <td>135</td>\n",
       "      <td>66</td>\n",
       "      <td>10208</td>\n",
       "      <td>...</td>\n",
       "      <td>0.032738</td>\n",
       "      <td>11.377953</td>\n",
       "      <td>64128</td>\n",
       "      <td>48473</td>\n",
       "      <td>1188</td>\n",
       "      <td>1231</td>\n",
       "      <td>653</td>\n",
       "      <td>1609</td>\n",
       "      <td>0.0</td>\n",
       "      <td>3000.0</td>\n",
       "    </tr>\n",
       "    <tr>\n",
       "      <th>184803891</th>\n",
       "      <td>12</td>\n",
       "      <td>1</td>\n",
       "      <td>11</td>\n",
       "      <td>481</td>\n",
       "      <td>15</td>\n",
       "      <td>2</td>\n",
       "      <td>256</td>\n",
       "      <td>43</td>\n",
       "      <td>15</td>\n",
       "      <td>252</td>\n",
       "      <td>...</td>\n",
       "      <td>1.303955</td>\n",
       "      <td>9.483334</td>\n",
       "      <td>4830</td>\n",
       "      <td>16741</td>\n",
       "      <td>530</td>\n",
       "      <td>1899</td>\n",
       "      <td>27</td>\n",
       "      <td>134</td>\n",
       "      <td>0.0</td>\n",
       "      <td>373.0</td>\n",
       "    </tr>\n",
       "    <tr>\n",
       "      <th>184803892</th>\n",
       "      <td>3</td>\n",
       "      <td>1</td>\n",
       "      <td>19</td>\n",
       "      <td>137</td>\n",
       "      <td>15</td>\n",
       "      <td>2</td>\n",
       "      <td>29386</td>\n",
       "      <td>3328</td>\n",
       "      <td>6651</td>\n",
       "      <td>26395</td>\n",
       "      <td>...</td>\n",
       "      <td>1.465981</td>\n",
       "      <td>11.082740</td>\n",
       "      <td>45828</td>\n",
       "      <td>58202</td>\n",
       "      <td>52702</td>\n",
       "      <td>4786</td>\n",
       "      <td>7756</td>\n",
       "      <td>51924</td>\n",
       "      <td>1.0</td>\n",
       "      <td>5.0</td>\n",
       "    </tr>\n",
       "    <tr>\n",
       "      <th>184803893</th>\n",
       "      <td>26</td>\n",
       "      <td>1</td>\n",
       "      <td>19</td>\n",
       "      <td>477</td>\n",
       "      <td>15</td>\n",
       "      <td>2</td>\n",
       "      <td>232</td>\n",
       "      <td>2</td>\n",
       "      <td>20</td>\n",
       "      <td>231</td>\n",
       "      <td>...</td>\n",
       "      <td>0.641897</td>\n",
       "      <td>8.576923</td>\n",
       "      <td>6041</td>\n",
       "      <td>19346</td>\n",
       "      <td>107</td>\n",
       "      <td>314</td>\n",
       "      <td>1523</td>\n",
       "      <td>4047</td>\n",
       "      <td>0.0</td>\n",
       "      <td>5743.0</td>\n",
       "    </tr>\n",
       "    <tr>\n",
       "      <th>184803894</th>\n",
       "      <td>15</td>\n",
       "      <td>1</td>\n",
       "      <td>3</td>\n",
       "      <td>386</td>\n",
       "      <td>15</td>\n",
       "      <td>2</td>\n",
       "      <td>104</td>\n",
       "      <td>8</td>\n",
       "      <td>36</td>\n",
       "      <td>104</td>\n",
       "      <td>...</td>\n",
       "      <td>0.000000</td>\n",
       "      <td>8.000000</td>\n",
       "      <td>586</td>\n",
       "      <td>586</td>\n",
       "      <td>30</td>\n",
       "      <td>30</td>\n",
       "      <td>50</td>\n",
       "      <td>50</td>\n",
       "      <td>22.0</td>\n",
       "      <td>18.0</td>\n",
       "    </tr>\n",
       "  </tbody>\n",
       "</table>\n",
       "<p>5 rows × 42 columns</p>\n",
       "</div>"
      ],
      "text/plain": [
       "           app  device  os  channel  hour  in_test_hh  ip_day_hour_clicks  \\\n",
       "184803890   56       1  30      406    15           2               11373   \n",
       "184803891   12       1  11      481    15           2                 256   \n",
       "184803892    3       1  19      137    15           2               29386   \n",
       "184803893   26       1  19      477    15           2                 232   \n",
       "184803894   15       1   3      386    15           2                 104   \n",
       "\n",
       "           ip_app_day_hour_clicks  ip_os_day_hour_clicks  \\\n",
       "184803890                     135                     66   \n",
       "184803891                      43                     15   \n",
       "184803892                    3328                   6651   \n",
       "184803893                       2                     20   \n",
       "184803894                       8                     36   \n",
       "\n",
       "           ip_device_day_hour_clicks       ...        ip_app_channel_var_day  \\\n",
       "184803890                      10208       ...                      0.032738   \n",
       "184803891                        252       ...                      1.303955   \n",
       "184803892                      26395       ...                      1.465981   \n",
       "184803893                        231       ...                      0.641897   \n",
       "184803894                        104       ...                      0.000000   \n",
       "\n",
       "           ip_app_channel_mean_hour  ip_day_cumcount  ip_cumcount  \\\n",
       "184803890                 11.377953            64128        48473   \n",
       "184803891                  9.483334             4830        16741   \n",
       "184803892                 11.082740            45828        58202   \n",
       "184803893                  8.576923             6041        19346   \n",
       "184803894                  8.000000              586          586   \n",
       "\n",
       "           ip_app_day_cumcount  ip_app_cumcount  ip_device_os_day_cumcount  \\\n",
       "184803890                 1188             1231                        653   \n",
       "184803891                  530             1899                         27   \n",
       "184803892                52702             4786                       7756   \n",
       "184803893                  107              314                       1523   \n",
       "184803894                   30               30                         50   \n",
       "\n",
       "           ip_device_os_cumcount  next_click  previous_click  \n",
       "184803890                   1609         0.0          3000.0  \n",
       "184803891                    134         0.0           373.0  \n",
       "184803892                  51924         1.0             5.0  \n",
       "184803893                   4047         0.0          5743.0  \n",
       "184803894                     50        22.0            18.0  \n",
       "\n",
       "[5 rows x 42 columns]"
      ]
     },
     "execution_count": 15,
     "metadata": {},
     "output_type": "execute_result"
    }
   ],
   "source": [
    "X.head()"
   ]
  },
  {
   "cell_type": "code",
   "execution_count": 18,
   "metadata": {},
   "outputs": [
    {
     "data": {
      "text/plain": [
       "Index(['app', 'device', 'os', 'channel', 'hour', 'in_test_hh',\n",
       "       'ip_day_hour_clicks', 'ip_app_day_hour_clicks', 'ip_os_day_hour_clicks',\n",
       "       'ip_device_day_hour_clicks', 'ip_day_test_hh_clicks',\n",
       "       'ip_app_device_clicks', 'ip_app_device_day_clicks',\n",
       "       'ip_day_nunique_app', 'ip_day_nunique_device', 'ip_day_nunique_channel',\n",
       "       'ip_day_nunique_hour', 'ip_nunique_app', 'ip_nunique_device',\n",
       "       'ip_nunique_channel', 'ip_nunique_hour', 'app_day_nunique_channel',\n",
       "       'app_nunique_channel', 'ip_app_day_nunique_os', 'ip_app_nunique_os',\n",
       "       'ip_device_os_day_nunique_app', 'ip_device_os_nunique_app',\n",
       "       'ip_app_day_var_hour', 'ip_device_day_var_hour', 'ip_os_day_var_hour',\n",
       "       'ip_channel_day_var_hour', 'ip_app_os_var_hour',\n",
       "       'ip_app_channel_var_day', 'ip_app_channel_mean_hour', 'ip_day_cumcount',\n",
       "       'ip_cumcount', 'ip_app_day_cumcount', 'ip_app_cumcount',\n",
       "       'ip_device_os_day_cumcount', 'ip_device_os_cumcount', 'next_click',\n",
       "       'previous_click'],\n",
       "      dtype='object')"
      ]
     },
     "execution_count": 18,
     "metadata": {},
     "output_type": "execute_result"
    }
   ],
   "source": [
    "X.columns"
   ]
  },
  {
   "cell_type": "markdown",
   "metadata": {},
   "source": [
    "### Run BorutaPy"
   ]
  },
  {
   "cell_type": "code",
   "execution_count": 6,
   "metadata": {
    "scrolled": false
   },
   "outputs": [
    {
     "name": "stdout",
     "output_type": "stream",
     "text": [
      "Iteration: \t1 / 100\n",
      "Confirmed: \t0\n",
      "Tentative: \t42\n",
      "Rejected: \t0\n",
      "Iteration: \t2 / 100\n",
      "Confirmed: \t0\n",
      "Tentative: \t42\n",
      "Rejected: \t0\n",
      "Iteration: \t3 / 100\n",
      "Confirmed: \t0\n",
      "Tentative: \t42\n",
      "Rejected: \t0\n",
      "Iteration: \t4 / 100\n",
      "Confirmed: \t0\n",
      "Tentative: \t42\n",
      "Rejected: \t0\n",
      "Iteration: \t5 / 100\n",
      "Confirmed: \t0\n",
      "Tentative: \t42\n",
      "Rejected: \t0\n",
      "Iteration: \t6 / 100\n",
      "Confirmed: \t0\n",
      "Tentative: \t42\n",
      "Rejected: \t0\n",
      "Iteration: \t7 / 100\n",
      "Confirmed: \t0\n",
      "Tentative: \t42\n",
      "Rejected: \t0\n",
      "Iteration: \t8 / 100\n",
      "Confirmed: \t21\n",
      "Tentative: \t17\n",
      "Rejected: \t4\n"
     ]
    },
    {
     "name": "stderr",
     "output_type": "stream",
     "text": [
      "/opt/conda/lib/python3.6/site-packages/boruta/boruta_py.py:418: RuntimeWarning: invalid value encountered in greater\n",
      "  hits = np.where(cur_imp[0] > imp_sha_max)[0]\n"
     ]
    },
    {
     "name": "stdout",
     "output_type": "stream",
     "text": [
      "Iteration: \t9 / 100\n",
      "Confirmed: \t21\n",
      "Tentative: \t17\n",
      "Rejected: \t4\n"
     ]
    },
    {
     "name": "stderr",
     "output_type": "stream",
     "text": [
      "/opt/conda/lib/python3.6/site-packages/boruta/boruta_py.py:418: RuntimeWarning: invalid value encountered in greater\n",
      "  hits = np.where(cur_imp[0] > imp_sha_max)[0]\n"
     ]
    },
    {
     "name": "stdout",
     "output_type": "stream",
     "text": [
      "Iteration: \t10 / 100\n",
      "Confirmed: \t21\n",
      "Tentative: \t17\n",
      "Rejected: \t4\n"
     ]
    },
    {
     "name": "stderr",
     "output_type": "stream",
     "text": [
      "/opt/conda/lib/python3.6/site-packages/boruta/boruta_py.py:418: RuntimeWarning: invalid value encountered in greater\n",
      "  hits = np.where(cur_imp[0] > imp_sha_max)[0]\n"
     ]
    },
    {
     "name": "stdout",
     "output_type": "stream",
     "text": [
      "Iteration: \t11 / 100\n",
      "Confirmed: \t21\n",
      "Tentative: \t17\n",
      "Rejected: \t4\n"
     ]
    },
    {
     "name": "stderr",
     "output_type": "stream",
     "text": [
      "/opt/conda/lib/python3.6/site-packages/boruta/boruta_py.py:418: RuntimeWarning: invalid value encountered in greater\n",
      "  hits = np.where(cur_imp[0] > imp_sha_max)[0]\n"
     ]
    },
    {
     "name": "stdout",
     "output_type": "stream",
     "text": [
      "Iteration: \t12 / 100\n",
      "Confirmed: \t25\n",
      "Tentative: \t13\n",
      "Rejected: \t4\n"
     ]
    },
    {
     "name": "stderr",
     "output_type": "stream",
     "text": [
      "/opt/conda/lib/python3.6/site-packages/boruta/boruta_py.py:418: RuntimeWarning: invalid value encountered in greater\n",
      "  hits = np.where(cur_imp[0] > imp_sha_max)[0]\n"
     ]
    },
    {
     "name": "stdout",
     "output_type": "stream",
     "text": [
      "Iteration: \t13 / 100\n",
      "Confirmed: \t25\n",
      "Tentative: \t13\n",
      "Rejected: \t4\n"
     ]
    },
    {
     "name": "stderr",
     "output_type": "stream",
     "text": [
      "/opt/conda/lib/python3.6/site-packages/boruta/boruta_py.py:418: RuntimeWarning: invalid value encountered in greater\n",
      "  hits = np.where(cur_imp[0] > imp_sha_max)[0]\n"
     ]
    },
    {
     "name": "stdout",
     "output_type": "stream",
     "text": [
      "Iteration: \t14 / 100\n",
      "Confirmed: \t25\n",
      "Tentative: \t13\n",
      "Rejected: \t4\n"
     ]
    },
    {
     "name": "stderr",
     "output_type": "stream",
     "text": [
      "/opt/conda/lib/python3.6/site-packages/boruta/boruta_py.py:418: RuntimeWarning: invalid value encountered in greater\n",
      "  hits = np.where(cur_imp[0] > imp_sha_max)[0]\n"
     ]
    },
    {
     "name": "stdout",
     "output_type": "stream",
     "text": [
      "Iteration: \t15 / 100\n",
      "Confirmed: \t25\n",
      "Tentative: \t13\n",
      "Rejected: \t4\n"
     ]
    },
    {
     "name": "stderr",
     "output_type": "stream",
     "text": [
      "/opt/conda/lib/python3.6/site-packages/boruta/boruta_py.py:418: RuntimeWarning: invalid value encountered in greater\n",
      "  hits = np.where(cur_imp[0] > imp_sha_max)[0]\n"
     ]
    },
    {
     "name": "stdout",
     "output_type": "stream",
     "text": [
      "Iteration: \t16 / 100\n",
      "Confirmed: \t25\n",
      "Tentative: \t13\n",
      "Rejected: \t4\n"
     ]
    },
    {
     "name": "stderr",
     "output_type": "stream",
     "text": [
      "/opt/conda/lib/python3.6/site-packages/boruta/boruta_py.py:418: RuntimeWarning: invalid value encountered in greater\n",
      "  hits = np.where(cur_imp[0] > imp_sha_max)[0]\n"
     ]
    },
    {
     "name": "stdout",
     "output_type": "stream",
     "text": [
      "Iteration: \t17 / 100\n",
      "Confirmed: \t25\n",
      "Tentative: \t13\n",
      "Rejected: \t4\n"
     ]
    },
    {
     "name": "stderr",
     "output_type": "stream",
     "text": [
      "/opt/conda/lib/python3.6/site-packages/boruta/boruta_py.py:418: RuntimeWarning: invalid value encountered in greater\n",
      "  hits = np.where(cur_imp[0] > imp_sha_max)[0]\n"
     ]
    },
    {
     "name": "stdout",
     "output_type": "stream",
     "text": [
      "Iteration: \t18 / 100\n",
      "Confirmed: \t25\n",
      "Tentative: \t13\n",
      "Rejected: \t4\n"
     ]
    },
    {
     "name": "stderr",
     "output_type": "stream",
     "text": [
      "/opt/conda/lib/python3.6/site-packages/boruta/boruta_py.py:418: RuntimeWarning: invalid value encountered in greater\n",
      "  hits = np.where(cur_imp[0] > imp_sha_max)[0]\n"
     ]
    },
    {
     "name": "stdout",
     "output_type": "stream",
     "text": [
      "Iteration: \t19 / 100\n",
      "Confirmed: \t26\n",
      "Tentative: \t12\n",
      "Rejected: \t4\n"
     ]
    },
    {
     "name": "stderr",
     "output_type": "stream",
     "text": [
      "/opt/conda/lib/python3.6/site-packages/boruta/boruta_py.py:418: RuntimeWarning: invalid value encountered in greater\n",
      "  hits = np.where(cur_imp[0] > imp_sha_max)[0]\n"
     ]
    },
    {
     "name": "stdout",
     "output_type": "stream",
     "text": [
      "Iteration: \t20 / 100\n",
      "Confirmed: \t26\n",
      "Tentative: \t11\n",
      "Rejected: \t5\n"
     ]
    },
    {
     "name": "stderr",
     "output_type": "stream",
     "text": [
      "/opt/conda/lib/python3.6/site-packages/boruta/boruta_py.py:418: RuntimeWarning: invalid value encountered in greater\n",
      "  hits = np.where(cur_imp[0] > imp_sha_max)[0]\n"
     ]
    },
    {
     "name": "stdout",
     "output_type": "stream",
     "text": [
      "Iteration: \t21 / 100\n",
      "Confirmed: \t26\n",
      "Tentative: \t11\n",
      "Rejected: \t5\n"
     ]
    },
    {
     "name": "stderr",
     "output_type": "stream",
     "text": [
      "/opt/conda/lib/python3.6/site-packages/boruta/boruta_py.py:418: RuntimeWarning: invalid value encountered in greater\n",
      "  hits = np.where(cur_imp[0] > imp_sha_max)[0]\n"
     ]
    },
    {
     "name": "stdout",
     "output_type": "stream",
     "text": [
      "Iteration: \t22 / 100\n",
      "Confirmed: \t26\n",
      "Tentative: \t11\n",
      "Rejected: \t5\n"
     ]
    },
    {
     "name": "stderr",
     "output_type": "stream",
     "text": [
      "/opt/conda/lib/python3.6/site-packages/boruta/boruta_py.py:418: RuntimeWarning: invalid value encountered in greater\n",
      "  hits = np.where(cur_imp[0] > imp_sha_max)[0]\n"
     ]
    },
    {
     "name": "stdout",
     "output_type": "stream",
     "text": [
      "Iteration: \t23 / 100\n",
      "Confirmed: \t26\n",
      "Tentative: \t10\n",
      "Rejected: \t6\n"
     ]
    },
    {
     "name": "stderr",
     "output_type": "stream",
     "text": [
      "/opt/conda/lib/python3.6/site-packages/boruta/boruta_py.py:418: RuntimeWarning: invalid value encountered in greater\n",
      "  hits = np.where(cur_imp[0] > imp_sha_max)[0]\n"
     ]
    },
    {
     "name": "stdout",
     "output_type": "stream",
     "text": [
      "Iteration: \t24 / 100\n",
      "Confirmed: \t26\n",
      "Tentative: \t10\n",
      "Rejected: \t6\n"
     ]
    },
    {
     "name": "stderr",
     "output_type": "stream",
     "text": [
      "/opt/conda/lib/python3.6/site-packages/boruta/boruta_py.py:418: RuntimeWarning: invalid value encountered in greater\n",
      "  hits = np.where(cur_imp[0] > imp_sha_max)[0]\n"
     ]
    },
    {
     "name": "stdout",
     "output_type": "stream",
     "text": [
      "Iteration: \t25 / 100\n",
      "Confirmed: \t26\n",
      "Tentative: \t10\n",
      "Rejected: \t6\n"
     ]
    },
    {
     "name": "stderr",
     "output_type": "stream",
     "text": [
      "/opt/conda/lib/python3.6/site-packages/boruta/boruta_py.py:418: RuntimeWarning: invalid value encountered in greater\n",
      "  hits = np.where(cur_imp[0] > imp_sha_max)[0]\n"
     ]
    },
    {
     "name": "stdout",
     "output_type": "stream",
     "text": [
      "Iteration: \t26 / 100\n",
      "Confirmed: \t26\n",
      "Tentative: \t9\n",
      "Rejected: \t7\n"
     ]
    },
    {
     "name": "stderr",
     "output_type": "stream",
     "text": [
      "/opt/conda/lib/python3.6/site-packages/boruta/boruta_py.py:418: RuntimeWarning: invalid value encountered in greater\n",
      "  hits = np.where(cur_imp[0] > imp_sha_max)[0]\n"
     ]
    },
    {
     "name": "stdout",
     "output_type": "stream",
     "text": [
      "Iteration: \t27 / 100\n",
      "Confirmed: \t26\n",
      "Tentative: \t9\n",
      "Rejected: \t7\n"
     ]
    },
    {
     "name": "stderr",
     "output_type": "stream",
     "text": [
      "/opt/conda/lib/python3.6/site-packages/boruta/boruta_py.py:418: RuntimeWarning: invalid value encountered in greater\n",
      "  hits = np.where(cur_imp[0] > imp_sha_max)[0]\n"
     ]
    },
    {
     "name": "stdout",
     "output_type": "stream",
     "text": [
      "Iteration: \t28 / 100\n",
      "Confirmed: \t26\n",
      "Tentative: \t9\n",
      "Rejected: \t7\n"
     ]
    },
    {
     "name": "stderr",
     "output_type": "stream",
     "text": [
      "/opt/conda/lib/python3.6/site-packages/boruta/boruta_py.py:418: RuntimeWarning: invalid value encountered in greater\n",
      "  hits = np.where(cur_imp[0] > imp_sha_max)[0]\n"
     ]
    },
    {
     "name": "stdout",
     "output_type": "stream",
     "text": [
      "Iteration: \t29 / 100\n",
      "Confirmed: \t26\n",
      "Tentative: \t9\n",
      "Rejected: \t7\n"
     ]
    },
    {
     "name": "stderr",
     "output_type": "stream",
     "text": [
      "/opt/conda/lib/python3.6/site-packages/boruta/boruta_py.py:418: RuntimeWarning: invalid value encountered in greater\n",
      "  hits = np.where(cur_imp[0] > imp_sha_max)[0]\n"
     ]
    },
    {
     "name": "stdout",
     "output_type": "stream",
     "text": [
      "Iteration: \t30 / 100\n",
      "Confirmed: \t26\n",
      "Tentative: \t9\n",
      "Rejected: \t7\n"
     ]
    },
    {
     "name": "stderr",
     "output_type": "stream",
     "text": [
      "/opt/conda/lib/python3.6/site-packages/boruta/boruta_py.py:418: RuntimeWarning: invalid value encountered in greater\n",
      "  hits = np.where(cur_imp[0] > imp_sha_max)[0]\n"
     ]
    },
    {
     "name": "stdout",
     "output_type": "stream",
     "text": [
      "Iteration: \t31 / 100\n",
      "Confirmed: \t26\n",
      "Tentative: \t9\n",
      "Rejected: \t7\n"
     ]
    },
    {
     "name": "stderr",
     "output_type": "stream",
     "text": [
      "/opt/conda/lib/python3.6/site-packages/boruta/boruta_py.py:418: RuntimeWarning: invalid value encountered in greater\n",
      "  hits = np.where(cur_imp[0] > imp_sha_max)[0]\n"
     ]
    },
    {
     "name": "stdout",
     "output_type": "stream",
     "text": [
      "Iteration: \t32 / 100\n",
      "Confirmed: \t26\n",
      "Tentative: \t8\n",
      "Rejected: \t8\n"
     ]
    },
    {
     "name": "stderr",
     "output_type": "stream",
     "text": [
      "/opt/conda/lib/python3.6/site-packages/boruta/boruta_py.py:418: RuntimeWarning: invalid value encountered in greater\n",
      "  hits = np.where(cur_imp[0] > imp_sha_max)[0]\n"
     ]
    },
    {
     "name": "stdout",
     "output_type": "stream",
     "text": [
      "Iteration: \t33 / 100\n",
      "Confirmed: \t26\n",
      "Tentative: \t8\n",
      "Rejected: \t8\n"
     ]
    },
    {
     "name": "stderr",
     "output_type": "stream",
     "text": [
      "/opt/conda/lib/python3.6/site-packages/boruta/boruta_py.py:418: RuntimeWarning: invalid value encountered in greater\n",
      "  hits = np.where(cur_imp[0] > imp_sha_max)[0]\n"
     ]
    },
    {
     "name": "stdout",
     "output_type": "stream",
     "text": [
      "Iteration: \t34 / 100\n",
      "Confirmed: \t26\n",
      "Tentative: \t7\n",
      "Rejected: \t9\n"
     ]
    },
    {
     "name": "stderr",
     "output_type": "stream",
     "text": [
      "/opt/conda/lib/python3.6/site-packages/boruta/boruta_py.py:418: RuntimeWarning: invalid value encountered in greater\n",
      "  hits = np.where(cur_imp[0] > imp_sha_max)[0]\n"
     ]
    },
    {
     "name": "stdout",
     "output_type": "stream",
     "text": [
      "Iteration: \t35 / 100\n",
      "Confirmed: \t26\n",
      "Tentative: \t7\n",
      "Rejected: \t9\n"
     ]
    },
    {
     "name": "stderr",
     "output_type": "stream",
     "text": [
      "/opt/conda/lib/python3.6/site-packages/boruta/boruta_py.py:418: RuntimeWarning: invalid value encountered in greater\n",
      "  hits = np.where(cur_imp[0] > imp_sha_max)[0]\n"
     ]
    },
    {
     "name": "stdout",
     "output_type": "stream",
     "text": [
      "Iteration: \t36 / 100\n",
      "Confirmed: \t26\n",
      "Tentative: \t7\n",
      "Rejected: \t9\n"
     ]
    },
    {
     "name": "stderr",
     "output_type": "stream",
     "text": [
      "/opt/conda/lib/python3.6/site-packages/boruta/boruta_py.py:418: RuntimeWarning: invalid value encountered in greater\n",
      "  hits = np.where(cur_imp[0] > imp_sha_max)[0]\n"
     ]
    },
    {
     "name": "stdout",
     "output_type": "stream",
     "text": [
      "Iteration: \t37 / 100\n",
      "Confirmed: \t26\n",
      "Tentative: \t7\n",
      "Rejected: \t9\n"
     ]
    },
    {
     "name": "stderr",
     "output_type": "stream",
     "text": [
      "/opt/conda/lib/python3.6/site-packages/boruta/boruta_py.py:418: RuntimeWarning: invalid value encountered in greater\n",
      "  hits = np.where(cur_imp[0] > imp_sha_max)[0]\n"
     ]
    },
    {
     "name": "stdout",
     "output_type": "stream",
     "text": [
      "Iteration: \t38 / 100\n",
      "Confirmed: \t26\n",
      "Tentative: \t7\n",
      "Rejected: \t9\n"
     ]
    },
    {
     "name": "stderr",
     "output_type": "stream",
     "text": [
      "/opt/conda/lib/python3.6/site-packages/boruta/boruta_py.py:418: RuntimeWarning: invalid value encountered in greater\n",
      "  hits = np.where(cur_imp[0] > imp_sha_max)[0]\n"
     ]
    },
    {
     "name": "stdout",
     "output_type": "stream",
     "text": [
      "Iteration: \t39 / 100\n",
      "Confirmed: \t26\n",
      "Tentative: \t7\n",
      "Rejected: \t9\n"
     ]
    },
    {
     "name": "stderr",
     "output_type": "stream",
     "text": [
      "/opt/conda/lib/python3.6/site-packages/boruta/boruta_py.py:418: RuntimeWarning: invalid value encountered in greater\n",
      "  hits = np.where(cur_imp[0] > imp_sha_max)[0]\n"
     ]
    },
    {
     "name": "stdout",
     "output_type": "stream",
     "text": [
      "Iteration: \t40 / 100\n",
      "Confirmed: \t26\n",
      "Tentative: \t6\n",
      "Rejected: \t10\n"
     ]
    },
    {
     "name": "stderr",
     "output_type": "stream",
     "text": [
      "/opt/conda/lib/python3.6/site-packages/boruta/boruta_py.py:418: RuntimeWarning: invalid value encountered in greater\n",
      "  hits = np.where(cur_imp[0] > imp_sha_max)[0]\n"
     ]
    },
    {
     "name": "stdout",
     "output_type": "stream",
     "text": [
      "Iteration: \t41 / 100\n",
      "Confirmed: \t26\n",
      "Tentative: \t6\n",
      "Rejected: \t10\n"
     ]
    },
    {
     "name": "stderr",
     "output_type": "stream",
     "text": [
      "/opt/conda/lib/python3.6/site-packages/boruta/boruta_py.py:418: RuntimeWarning: invalid value encountered in greater\n",
      "  hits = np.where(cur_imp[0] > imp_sha_max)[0]\n"
     ]
    },
    {
     "name": "stdout",
     "output_type": "stream",
     "text": [
      "Iteration: \t42 / 100\n",
      "Confirmed: \t26\n",
      "Tentative: \t6\n",
      "Rejected: \t10\n"
     ]
    },
    {
     "name": "stderr",
     "output_type": "stream",
     "text": [
      "/opt/conda/lib/python3.6/site-packages/boruta/boruta_py.py:418: RuntimeWarning: invalid value encountered in greater\n",
      "  hits = np.where(cur_imp[0] > imp_sha_max)[0]\n"
     ]
    },
    {
     "name": "stdout",
     "output_type": "stream",
     "text": [
      "Iteration: \t43 / 100\n",
      "Confirmed: \t26\n",
      "Tentative: \t6\n",
      "Rejected: \t10\n"
     ]
    },
    {
     "name": "stderr",
     "output_type": "stream",
     "text": [
      "/opt/conda/lib/python3.6/site-packages/boruta/boruta_py.py:418: RuntimeWarning: invalid value encountered in greater\n",
      "  hits = np.where(cur_imp[0] > imp_sha_max)[0]\n"
     ]
    },
    {
     "name": "stdout",
     "output_type": "stream",
     "text": [
      "Iteration: \t44 / 100\n",
      "Confirmed: \t26\n",
      "Tentative: \t6\n",
      "Rejected: \t10\n"
     ]
    },
    {
     "name": "stderr",
     "output_type": "stream",
     "text": [
      "/opt/conda/lib/python3.6/site-packages/boruta/boruta_py.py:418: RuntimeWarning: invalid value encountered in greater\n",
      "  hits = np.where(cur_imp[0] > imp_sha_max)[0]\n"
     ]
    },
    {
     "name": "stdout",
     "output_type": "stream",
     "text": [
      "Iteration: \t45 / 100\n",
      "Confirmed: \t26\n",
      "Tentative: \t6\n",
      "Rejected: \t10\n"
     ]
    },
    {
     "name": "stderr",
     "output_type": "stream",
     "text": [
      "/opt/conda/lib/python3.6/site-packages/boruta/boruta_py.py:418: RuntimeWarning: invalid value encountered in greater\n",
      "  hits = np.where(cur_imp[0] > imp_sha_max)[0]\n"
     ]
    },
    {
     "name": "stdout",
     "output_type": "stream",
     "text": [
      "Iteration: \t46 / 100\n",
      "Confirmed: \t26\n",
      "Tentative: \t6\n",
      "Rejected: \t10\n"
     ]
    },
    {
     "name": "stderr",
     "output_type": "stream",
     "text": [
      "/opt/conda/lib/python3.6/site-packages/boruta/boruta_py.py:418: RuntimeWarning: invalid value encountered in greater\n",
      "  hits = np.where(cur_imp[0] > imp_sha_max)[0]\n"
     ]
    },
    {
     "name": "stdout",
     "output_type": "stream",
     "text": [
      "Iteration: \t47 / 100\n",
      "Confirmed: \t26\n",
      "Tentative: \t6\n",
      "Rejected: \t10\n"
     ]
    },
    {
     "name": "stderr",
     "output_type": "stream",
     "text": [
      "/opt/conda/lib/python3.6/site-packages/boruta/boruta_py.py:418: RuntimeWarning: invalid value encountered in greater\n",
      "  hits = np.where(cur_imp[0] > imp_sha_max)[0]\n"
     ]
    },
    {
     "name": "stdout",
     "output_type": "stream",
     "text": [
      "Iteration: \t48 / 100\n",
      "Confirmed: \t26\n",
      "Tentative: \t6\n",
      "Rejected: \t10\n"
     ]
    },
    {
     "name": "stderr",
     "output_type": "stream",
     "text": [
      "/opt/conda/lib/python3.6/site-packages/boruta/boruta_py.py:418: RuntimeWarning: invalid value encountered in greater\n",
      "  hits = np.where(cur_imp[0] > imp_sha_max)[0]\n"
     ]
    },
    {
     "name": "stdout",
     "output_type": "stream",
     "text": [
      "Iteration: \t49 / 100\n",
      "Confirmed: \t26\n",
      "Tentative: \t6\n",
      "Rejected: \t10\n"
     ]
    },
    {
     "name": "stderr",
     "output_type": "stream",
     "text": [
      "/opt/conda/lib/python3.6/site-packages/boruta/boruta_py.py:418: RuntimeWarning: invalid value encountered in greater\n",
      "  hits = np.where(cur_imp[0] > imp_sha_max)[0]\n"
     ]
    },
    {
     "name": "stdout",
     "output_type": "stream",
     "text": [
      "Iteration: \t50 / 100\n",
      "Confirmed: \t26\n",
      "Tentative: \t6\n",
      "Rejected: \t10\n"
     ]
    },
    {
     "name": "stderr",
     "output_type": "stream",
     "text": [
      "/opt/conda/lib/python3.6/site-packages/boruta/boruta_py.py:418: RuntimeWarning: invalid value encountered in greater\n",
      "  hits = np.where(cur_imp[0] > imp_sha_max)[0]\n"
     ]
    },
    {
     "name": "stdout",
     "output_type": "stream",
     "text": [
      "Iteration: \t51 / 100\n",
      "Confirmed: \t26\n",
      "Tentative: \t6\n",
      "Rejected: \t10\n"
     ]
    },
    {
     "name": "stderr",
     "output_type": "stream",
     "text": [
      "/opt/conda/lib/python3.6/site-packages/boruta/boruta_py.py:418: RuntimeWarning: invalid value encountered in greater\n",
      "  hits = np.where(cur_imp[0] > imp_sha_max)[0]\n"
     ]
    },
    {
     "name": "stdout",
     "output_type": "stream",
     "text": [
      "Iteration: \t52 / 100\n",
      "Confirmed: \t26\n",
      "Tentative: \t6\n",
      "Rejected: \t10\n"
     ]
    },
    {
     "name": "stderr",
     "output_type": "stream",
     "text": [
      "/opt/conda/lib/python3.6/site-packages/boruta/boruta_py.py:418: RuntimeWarning: invalid value encountered in greater\n",
      "  hits = np.where(cur_imp[0] > imp_sha_max)[0]\n"
     ]
    },
    {
     "name": "stdout",
     "output_type": "stream",
     "text": [
      "Iteration: \t53 / 100\n",
      "Confirmed: \t26\n",
      "Tentative: \t6\n",
      "Rejected: \t10\n"
     ]
    },
    {
     "name": "stderr",
     "output_type": "stream",
     "text": [
      "/opt/conda/lib/python3.6/site-packages/boruta/boruta_py.py:418: RuntimeWarning: invalid value encountered in greater\n",
      "  hits = np.where(cur_imp[0] > imp_sha_max)[0]\n"
     ]
    },
    {
     "name": "stdout",
     "output_type": "stream",
     "text": [
      "Iteration: \t54 / 100\n",
      "Confirmed: \t26\n",
      "Tentative: \t6\n",
      "Rejected: \t10\n"
     ]
    },
    {
     "name": "stderr",
     "output_type": "stream",
     "text": [
      "/opt/conda/lib/python3.6/site-packages/boruta/boruta_py.py:418: RuntimeWarning: invalid value encountered in greater\n",
      "  hits = np.where(cur_imp[0] > imp_sha_max)[0]\n"
     ]
    },
    {
     "name": "stdout",
     "output_type": "stream",
     "text": [
      "Iteration: \t55 / 100\n",
      "Confirmed: \t26\n",
      "Tentative: \t6\n",
      "Rejected: \t10\n"
     ]
    },
    {
     "name": "stderr",
     "output_type": "stream",
     "text": [
      "/opt/conda/lib/python3.6/site-packages/boruta/boruta_py.py:418: RuntimeWarning: invalid value encountered in greater\n",
      "  hits = np.where(cur_imp[0] > imp_sha_max)[0]\n"
     ]
    },
    {
     "name": "stdout",
     "output_type": "stream",
     "text": [
      "Iteration: \t56 / 100\n",
      "Confirmed: \t26\n",
      "Tentative: \t6\n",
      "Rejected: \t10\n"
     ]
    },
    {
     "name": "stderr",
     "output_type": "stream",
     "text": [
      "/opt/conda/lib/python3.6/site-packages/boruta/boruta_py.py:418: RuntimeWarning: invalid value encountered in greater\n",
      "  hits = np.where(cur_imp[0] > imp_sha_max)[0]\n"
     ]
    },
    {
     "name": "stdout",
     "output_type": "stream",
     "text": [
      "Iteration: \t57 / 100\n",
      "Confirmed: \t26\n",
      "Tentative: \t6\n",
      "Rejected: \t10\n"
     ]
    },
    {
     "name": "stderr",
     "output_type": "stream",
     "text": [
      "/opt/conda/lib/python3.6/site-packages/boruta/boruta_py.py:418: RuntimeWarning: invalid value encountered in greater\n",
      "  hits = np.where(cur_imp[0] > imp_sha_max)[0]\n"
     ]
    },
    {
     "name": "stdout",
     "output_type": "stream",
     "text": [
      "Iteration: \t58 / 100\n",
      "Confirmed: \t26\n",
      "Tentative: \t6\n",
      "Rejected: \t10\n"
     ]
    },
    {
     "name": "stderr",
     "output_type": "stream",
     "text": [
      "/opt/conda/lib/python3.6/site-packages/boruta/boruta_py.py:418: RuntimeWarning: invalid value encountered in greater\n",
      "  hits = np.where(cur_imp[0] > imp_sha_max)[0]\n"
     ]
    },
    {
     "name": "stdout",
     "output_type": "stream",
     "text": [
      "Iteration: \t59 / 100\n",
      "Confirmed: \t26\n",
      "Tentative: \t6\n",
      "Rejected: \t10\n"
     ]
    },
    {
     "name": "stderr",
     "output_type": "stream",
     "text": [
      "/opt/conda/lib/python3.6/site-packages/boruta/boruta_py.py:418: RuntimeWarning: invalid value encountered in greater\n",
      "  hits = np.where(cur_imp[0] > imp_sha_max)[0]\n"
     ]
    },
    {
     "name": "stdout",
     "output_type": "stream",
     "text": [
      "Iteration: \t60 / 100\n",
      "Confirmed: \t26\n",
      "Tentative: \t6\n",
      "Rejected: \t10\n"
     ]
    },
    {
     "name": "stderr",
     "output_type": "stream",
     "text": [
      "/opt/conda/lib/python3.6/site-packages/boruta/boruta_py.py:418: RuntimeWarning: invalid value encountered in greater\n",
      "  hits = np.where(cur_imp[0] > imp_sha_max)[0]\n"
     ]
    },
    {
     "name": "stdout",
     "output_type": "stream",
     "text": [
      "Iteration: \t61 / 100\n",
      "Confirmed: \t26\n",
      "Tentative: \t6\n",
      "Rejected: \t10\n"
     ]
    },
    {
     "name": "stderr",
     "output_type": "stream",
     "text": [
      "/opt/conda/lib/python3.6/site-packages/boruta/boruta_py.py:418: RuntimeWarning: invalid value encountered in greater\n",
      "  hits = np.where(cur_imp[0] > imp_sha_max)[0]\n"
     ]
    },
    {
     "name": "stdout",
     "output_type": "stream",
     "text": [
      "Iteration: \t62 / 100\n",
      "Confirmed: \t26\n",
      "Tentative: \t5\n",
      "Rejected: \t11\n"
     ]
    },
    {
     "name": "stderr",
     "output_type": "stream",
     "text": [
      "/opt/conda/lib/python3.6/site-packages/boruta/boruta_py.py:418: RuntimeWarning: invalid value encountered in greater\n",
      "  hits = np.where(cur_imp[0] > imp_sha_max)[0]\n"
     ]
    },
    {
     "name": "stdout",
     "output_type": "stream",
     "text": [
      "Iteration: \t63 / 100\n",
      "Confirmed: \t26\n",
      "Tentative: \t5\n",
      "Rejected: \t11\n"
     ]
    },
    {
     "name": "stderr",
     "output_type": "stream",
     "text": [
      "/opt/conda/lib/python3.6/site-packages/boruta/boruta_py.py:418: RuntimeWarning: invalid value encountered in greater\n",
      "  hits = np.where(cur_imp[0] > imp_sha_max)[0]\n"
     ]
    },
    {
     "name": "stdout",
     "output_type": "stream",
     "text": [
      "Iteration: \t64 / 100\n",
      "Confirmed: \t26\n",
      "Tentative: \t5\n",
      "Rejected: \t11\n"
     ]
    },
    {
     "name": "stderr",
     "output_type": "stream",
     "text": [
      "/opt/conda/lib/python3.6/site-packages/boruta/boruta_py.py:418: RuntimeWarning: invalid value encountered in greater\n",
      "  hits = np.where(cur_imp[0] > imp_sha_max)[0]\n"
     ]
    },
    {
     "name": "stdout",
     "output_type": "stream",
     "text": [
      "Iteration: \t65 / 100\n",
      "Confirmed: \t26\n",
      "Tentative: \t5\n",
      "Rejected: \t11\n"
     ]
    },
    {
     "name": "stderr",
     "output_type": "stream",
     "text": [
      "/opt/conda/lib/python3.6/site-packages/boruta/boruta_py.py:418: RuntimeWarning: invalid value encountered in greater\n",
      "  hits = np.where(cur_imp[0] > imp_sha_max)[0]\n"
     ]
    },
    {
     "name": "stdout",
     "output_type": "stream",
     "text": [
      "Iteration: \t66 / 100\n",
      "Confirmed: \t26\n",
      "Tentative: \t5\n",
      "Rejected: \t11\n"
     ]
    },
    {
     "name": "stderr",
     "output_type": "stream",
     "text": [
      "/opt/conda/lib/python3.6/site-packages/boruta/boruta_py.py:418: RuntimeWarning: invalid value encountered in greater\n",
      "  hits = np.where(cur_imp[0] > imp_sha_max)[0]\n"
     ]
    },
    {
     "name": "stdout",
     "output_type": "stream",
     "text": [
      "Iteration: \t67 / 100\n",
      "Confirmed: \t27\n",
      "Tentative: \t4\n",
      "Rejected: \t11\n"
     ]
    },
    {
     "name": "stderr",
     "output_type": "stream",
     "text": [
      "/opt/conda/lib/python3.6/site-packages/boruta/boruta_py.py:418: RuntimeWarning: invalid value encountered in greater\n",
      "  hits = np.where(cur_imp[0] > imp_sha_max)[0]\n"
     ]
    },
    {
     "name": "stdout",
     "output_type": "stream",
     "text": [
      "Iteration: \t68 / 100\n",
      "Confirmed: \t27\n",
      "Tentative: \t4\n",
      "Rejected: \t11\n"
     ]
    },
    {
     "name": "stderr",
     "output_type": "stream",
     "text": [
      "/opt/conda/lib/python3.6/site-packages/boruta/boruta_py.py:418: RuntimeWarning: invalid value encountered in greater\n",
      "  hits = np.where(cur_imp[0] > imp_sha_max)[0]\n"
     ]
    },
    {
     "name": "stdout",
     "output_type": "stream",
     "text": [
      "Iteration: \t69 / 100\n",
      "Confirmed: \t27\n",
      "Tentative: \t4\n",
      "Rejected: \t11\n"
     ]
    },
    {
     "name": "stderr",
     "output_type": "stream",
     "text": [
      "/opt/conda/lib/python3.6/site-packages/boruta/boruta_py.py:418: RuntimeWarning: invalid value encountered in greater\n",
      "  hits = np.where(cur_imp[0] > imp_sha_max)[0]\n"
     ]
    },
    {
     "name": "stdout",
     "output_type": "stream",
     "text": [
      "Iteration: \t70 / 100\n",
      "Confirmed: \t27\n",
      "Tentative: \t4\n",
      "Rejected: \t11\n"
     ]
    },
    {
     "name": "stderr",
     "output_type": "stream",
     "text": [
      "/opt/conda/lib/python3.6/site-packages/boruta/boruta_py.py:418: RuntimeWarning: invalid value encountered in greater\n",
      "  hits = np.where(cur_imp[0] > imp_sha_max)[0]\n"
     ]
    },
    {
     "name": "stdout",
     "output_type": "stream",
     "text": [
      "Iteration: \t71 / 100\n",
      "Confirmed: \t27\n",
      "Tentative: \t4\n",
      "Rejected: \t11\n"
     ]
    },
    {
     "name": "stderr",
     "output_type": "stream",
     "text": [
      "/opt/conda/lib/python3.6/site-packages/boruta/boruta_py.py:418: RuntimeWarning: invalid value encountered in greater\n",
      "  hits = np.where(cur_imp[0] > imp_sha_max)[0]\n"
     ]
    },
    {
     "name": "stdout",
     "output_type": "stream",
     "text": [
      "Iteration: \t72 / 100\n",
      "Confirmed: \t27\n",
      "Tentative: \t4\n",
      "Rejected: \t11\n"
     ]
    },
    {
     "name": "stderr",
     "output_type": "stream",
     "text": [
      "/opt/conda/lib/python3.6/site-packages/boruta/boruta_py.py:418: RuntimeWarning: invalid value encountered in greater\n",
      "  hits = np.where(cur_imp[0] > imp_sha_max)[0]\n"
     ]
    },
    {
     "name": "stdout",
     "output_type": "stream",
     "text": [
      "Iteration: \t73 / 100\n",
      "Confirmed: \t27\n",
      "Tentative: \t4\n",
      "Rejected: \t11\n"
     ]
    },
    {
     "name": "stderr",
     "output_type": "stream",
     "text": [
      "/opt/conda/lib/python3.6/site-packages/boruta/boruta_py.py:418: RuntimeWarning: invalid value encountered in greater\n",
      "  hits = np.where(cur_imp[0] > imp_sha_max)[0]\n"
     ]
    },
    {
     "name": "stdout",
     "output_type": "stream",
     "text": [
      "Iteration: \t74 / 100\n",
      "Confirmed: \t27\n",
      "Tentative: \t4\n",
      "Rejected: \t11\n"
     ]
    },
    {
     "name": "stderr",
     "output_type": "stream",
     "text": [
      "/opt/conda/lib/python3.6/site-packages/boruta/boruta_py.py:418: RuntimeWarning: invalid value encountered in greater\n",
      "  hits = np.where(cur_imp[0] > imp_sha_max)[0]\n"
     ]
    },
    {
     "name": "stdout",
     "output_type": "stream",
     "text": [
      "Iteration: \t75 / 100\n",
      "Confirmed: \t27\n",
      "Tentative: \t4\n",
      "Rejected: \t11\n"
     ]
    },
    {
     "name": "stderr",
     "output_type": "stream",
     "text": [
      "/opt/conda/lib/python3.6/site-packages/boruta/boruta_py.py:418: RuntimeWarning: invalid value encountered in greater\n",
      "  hits = np.where(cur_imp[0] > imp_sha_max)[0]\n"
     ]
    },
    {
     "name": "stdout",
     "output_type": "stream",
     "text": [
      "Iteration: \t76 / 100\n",
      "Confirmed: \t27\n",
      "Tentative: \t4\n",
      "Rejected: \t11\n"
     ]
    },
    {
     "name": "stderr",
     "output_type": "stream",
     "text": [
      "/opt/conda/lib/python3.6/site-packages/boruta/boruta_py.py:418: RuntimeWarning: invalid value encountered in greater\n",
      "  hits = np.where(cur_imp[0] > imp_sha_max)[0]\n"
     ]
    },
    {
     "name": "stdout",
     "output_type": "stream",
     "text": [
      "Iteration: \t77 / 100\n",
      "Confirmed: \t27\n",
      "Tentative: \t4\n",
      "Rejected: \t11\n"
     ]
    },
    {
     "name": "stderr",
     "output_type": "stream",
     "text": [
      "/opt/conda/lib/python3.6/site-packages/boruta/boruta_py.py:418: RuntimeWarning: invalid value encountered in greater\n",
      "  hits = np.where(cur_imp[0] > imp_sha_max)[0]\n"
     ]
    },
    {
     "name": "stdout",
     "output_type": "stream",
     "text": [
      "Iteration: \t78 / 100\n",
      "Confirmed: \t27\n",
      "Tentative: \t4\n",
      "Rejected: \t11\n"
     ]
    },
    {
     "name": "stderr",
     "output_type": "stream",
     "text": [
      "/opt/conda/lib/python3.6/site-packages/boruta/boruta_py.py:418: RuntimeWarning: invalid value encountered in greater\n",
      "  hits = np.where(cur_imp[0] > imp_sha_max)[0]\n"
     ]
    },
    {
     "name": "stdout",
     "output_type": "stream",
     "text": [
      "Iteration: \t79 / 100\n",
      "Confirmed: \t27\n",
      "Tentative: \t4\n",
      "Rejected: \t11\n"
     ]
    },
    {
     "name": "stderr",
     "output_type": "stream",
     "text": [
      "/opt/conda/lib/python3.6/site-packages/boruta/boruta_py.py:418: RuntimeWarning: invalid value encountered in greater\n",
      "  hits = np.where(cur_imp[0] > imp_sha_max)[0]\n"
     ]
    },
    {
     "name": "stdout",
     "output_type": "stream",
     "text": [
      "Iteration: \t80 / 100\n",
      "Confirmed: \t27\n",
      "Tentative: \t4\n",
      "Rejected: \t11\n"
     ]
    },
    {
     "name": "stderr",
     "output_type": "stream",
     "text": [
      "/opt/conda/lib/python3.6/site-packages/boruta/boruta_py.py:418: RuntimeWarning: invalid value encountered in greater\n",
      "  hits = np.where(cur_imp[0] > imp_sha_max)[0]\n"
     ]
    },
    {
     "name": "stdout",
     "output_type": "stream",
     "text": [
      "Iteration: \t81 / 100\n",
      "Confirmed: \t27\n",
      "Tentative: \t4\n",
      "Rejected: \t11\n"
     ]
    },
    {
     "name": "stderr",
     "output_type": "stream",
     "text": [
      "/opt/conda/lib/python3.6/site-packages/boruta/boruta_py.py:418: RuntimeWarning: invalid value encountered in greater\n",
      "  hits = np.where(cur_imp[0] > imp_sha_max)[0]\n"
     ]
    },
    {
     "name": "stdout",
     "output_type": "stream",
     "text": [
      "Iteration: \t82 / 100\n",
      "Confirmed: \t27\n",
      "Tentative: \t4\n",
      "Rejected: \t11\n"
     ]
    },
    {
     "name": "stderr",
     "output_type": "stream",
     "text": [
      "/opt/conda/lib/python3.6/site-packages/boruta/boruta_py.py:418: RuntimeWarning: invalid value encountered in greater\n",
      "  hits = np.where(cur_imp[0] > imp_sha_max)[0]\n"
     ]
    },
    {
     "name": "stdout",
     "output_type": "stream",
     "text": [
      "Iteration: \t83 / 100\n",
      "Confirmed: \t27\n",
      "Tentative: \t4\n",
      "Rejected: \t11\n"
     ]
    },
    {
     "name": "stderr",
     "output_type": "stream",
     "text": [
      "/opt/conda/lib/python3.6/site-packages/boruta/boruta_py.py:418: RuntimeWarning: invalid value encountered in greater\n",
      "  hits = np.where(cur_imp[0] > imp_sha_max)[0]\n"
     ]
    },
    {
     "name": "stdout",
     "output_type": "stream",
     "text": [
      "Iteration: \t84 / 100\n",
      "Confirmed: \t27\n",
      "Tentative: \t4\n",
      "Rejected: \t11\n"
     ]
    },
    {
     "name": "stderr",
     "output_type": "stream",
     "text": [
      "/opt/conda/lib/python3.6/site-packages/boruta/boruta_py.py:418: RuntimeWarning: invalid value encountered in greater\n",
      "  hits = np.where(cur_imp[0] > imp_sha_max)[0]\n"
     ]
    },
    {
     "name": "stdout",
     "output_type": "stream",
     "text": [
      "Iteration: \t85 / 100\n",
      "Confirmed: \t27\n",
      "Tentative: \t4\n",
      "Rejected: \t11\n"
     ]
    },
    {
     "name": "stderr",
     "output_type": "stream",
     "text": [
      "/opt/conda/lib/python3.6/site-packages/boruta/boruta_py.py:418: RuntimeWarning: invalid value encountered in greater\n",
      "  hits = np.where(cur_imp[0] > imp_sha_max)[0]\n"
     ]
    },
    {
     "name": "stdout",
     "output_type": "stream",
     "text": [
      "Iteration: \t86 / 100\n",
      "Confirmed: \t27\n",
      "Tentative: \t4\n",
      "Rejected: \t11\n"
     ]
    },
    {
     "name": "stderr",
     "output_type": "stream",
     "text": [
      "/opt/conda/lib/python3.6/site-packages/boruta/boruta_py.py:418: RuntimeWarning: invalid value encountered in greater\n",
      "  hits = np.where(cur_imp[0] > imp_sha_max)[0]\n"
     ]
    },
    {
     "name": "stdout",
     "output_type": "stream",
     "text": [
      "Iteration: \t87 / 100\n",
      "Confirmed: \t27\n",
      "Tentative: \t4\n",
      "Rejected: \t11\n"
     ]
    },
    {
     "name": "stderr",
     "output_type": "stream",
     "text": [
      "/opt/conda/lib/python3.6/site-packages/boruta/boruta_py.py:418: RuntimeWarning: invalid value encountered in greater\n",
      "  hits = np.where(cur_imp[0] > imp_sha_max)[0]\n"
     ]
    },
    {
     "name": "stdout",
     "output_type": "stream",
     "text": [
      "Iteration: \t88 / 100\n",
      "Confirmed: \t27\n",
      "Tentative: \t4\n",
      "Rejected: \t11\n"
     ]
    },
    {
     "name": "stderr",
     "output_type": "stream",
     "text": [
      "/opt/conda/lib/python3.6/site-packages/boruta/boruta_py.py:418: RuntimeWarning: invalid value encountered in greater\n",
      "  hits = np.where(cur_imp[0] > imp_sha_max)[0]\n"
     ]
    },
    {
     "name": "stdout",
     "output_type": "stream",
     "text": [
      "Iteration: \t89 / 100\n",
      "Confirmed: \t27\n",
      "Tentative: \t4\n",
      "Rejected: \t11\n"
     ]
    },
    {
     "name": "stderr",
     "output_type": "stream",
     "text": [
      "/opt/conda/lib/python3.6/site-packages/boruta/boruta_py.py:418: RuntimeWarning: invalid value encountered in greater\n",
      "  hits = np.where(cur_imp[0] > imp_sha_max)[0]\n"
     ]
    },
    {
     "name": "stdout",
     "output_type": "stream",
     "text": [
      "Iteration: \t90 / 100\n",
      "Confirmed: \t27\n",
      "Tentative: \t4\n",
      "Rejected: \t11\n"
     ]
    },
    {
     "name": "stderr",
     "output_type": "stream",
     "text": [
      "/opt/conda/lib/python3.6/site-packages/boruta/boruta_py.py:418: RuntimeWarning: invalid value encountered in greater\n",
      "  hits = np.where(cur_imp[0] > imp_sha_max)[0]\n"
     ]
    },
    {
     "name": "stdout",
     "output_type": "stream",
     "text": [
      "Iteration: \t91 / 100\n",
      "Confirmed: \t27\n",
      "Tentative: \t4\n",
      "Rejected: \t11\n"
     ]
    },
    {
     "name": "stderr",
     "output_type": "stream",
     "text": [
      "/opt/conda/lib/python3.6/site-packages/boruta/boruta_py.py:418: RuntimeWarning: invalid value encountered in greater\n",
      "  hits = np.where(cur_imp[0] > imp_sha_max)[0]\n"
     ]
    },
    {
     "name": "stdout",
     "output_type": "stream",
     "text": [
      "Iteration: \t92 / 100\n",
      "Confirmed: \t27\n",
      "Tentative: \t4\n",
      "Rejected: \t11\n"
     ]
    },
    {
     "name": "stderr",
     "output_type": "stream",
     "text": [
      "/opt/conda/lib/python3.6/site-packages/boruta/boruta_py.py:418: RuntimeWarning: invalid value encountered in greater\n",
      "  hits = np.where(cur_imp[0] > imp_sha_max)[0]\n"
     ]
    },
    {
     "name": "stdout",
     "output_type": "stream",
     "text": [
      "Iteration: \t93 / 100\n",
      "Confirmed: \t27\n",
      "Tentative: \t4\n",
      "Rejected: \t11\n"
     ]
    },
    {
     "name": "stderr",
     "output_type": "stream",
     "text": [
      "/opt/conda/lib/python3.6/site-packages/boruta/boruta_py.py:418: RuntimeWarning: invalid value encountered in greater\n",
      "  hits = np.where(cur_imp[0] > imp_sha_max)[0]\n"
     ]
    },
    {
     "name": "stdout",
     "output_type": "stream",
     "text": [
      "Iteration: \t94 / 100\n",
      "Confirmed: \t27\n",
      "Tentative: \t4\n",
      "Rejected: \t11\n"
     ]
    },
    {
     "name": "stderr",
     "output_type": "stream",
     "text": [
      "/opt/conda/lib/python3.6/site-packages/boruta/boruta_py.py:418: RuntimeWarning: invalid value encountered in greater\n",
      "  hits = np.where(cur_imp[0] > imp_sha_max)[0]\n"
     ]
    },
    {
     "name": "stdout",
     "output_type": "stream",
     "text": [
      "Iteration: \t95 / 100\n",
      "Confirmed: \t27\n",
      "Tentative: \t4\n",
      "Rejected: \t11\n"
     ]
    },
    {
     "name": "stderr",
     "output_type": "stream",
     "text": [
      "/opt/conda/lib/python3.6/site-packages/boruta/boruta_py.py:418: RuntimeWarning: invalid value encountered in greater\n",
      "  hits = np.where(cur_imp[0] > imp_sha_max)[0]\n"
     ]
    },
    {
     "name": "stdout",
     "output_type": "stream",
     "text": [
      "Iteration: \t96 / 100\n",
      "Confirmed: \t27\n",
      "Tentative: \t4\n",
      "Rejected: \t11\n"
     ]
    },
    {
     "name": "stderr",
     "output_type": "stream",
     "text": [
      "/opt/conda/lib/python3.6/site-packages/boruta/boruta_py.py:418: RuntimeWarning: invalid value encountered in greater\n",
      "  hits = np.where(cur_imp[0] > imp_sha_max)[0]\n"
     ]
    },
    {
     "name": "stdout",
     "output_type": "stream",
     "text": [
      "Iteration: \t97 / 100\n",
      "Confirmed: \t27\n",
      "Tentative: \t4\n",
      "Rejected: \t11\n"
     ]
    },
    {
     "name": "stderr",
     "output_type": "stream",
     "text": [
      "/opt/conda/lib/python3.6/site-packages/boruta/boruta_py.py:418: RuntimeWarning: invalid value encountered in greater\n",
      "  hits = np.where(cur_imp[0] > imp_sha_max)[0]\n"
     ]
    },
    {
     "name": "stdout",
     "output_type": "stream",
     "text": [
      "Iteration: \t98 / 100\n",
      "Confirmed: \t27\n",
      "Tentative: \t4\n",
      "Rejected: \t11\n",
      "Iteration: \t99 / 100\n",
      "Confirmed: \t27\n",
      "Tentative: \t4\n",
      "Rejected: \t11\n",
      "\n",
      "\n",
      "BorutaPy finished running.\n",
      "\n",
      "Iteration: \t100 / 100\n",
      "Confirmed: \t27\n",
      "Tentative: \t2\n",
      "Rejected: \t11\n"
     ]
    },
    {
     "name": "stderr",
     "output_type": "stream",
     "text": [
      "/opt/conda/lib/python3.6/site-packages/boruta/boruta_py.py:418: RuntimeWarning: invalid value encountered in greater\n",
      "  hits = np.where(cur_imp[0] > imp_sha_max)[0]\n"
     ]
    }
   ],
   "source": [
    "# define random forest classifier, with utilising all cores and\n",
    "# sampling in proportion to y labels\n",
    "rf = RandomForestClassifier(\n",
    "    n_estimators=100,\n",
    "    max_depth=5,\n",
    "    class_weight='balanced',\n",
    "    n_jobs=-1\n",
    ")\n",
    "\n",
    "# define Boruta feature selection method\n",
    "feat_selector = BorutaPy(\n",
    "    rf, \n",
    "    n_estimators=100, \n",
    "    verbose=2, \n",
    "    random_state=1\n",
    ")\n",
    "\n",
    "# find all relevant features - 5 features should be selected\n",
    "feat_selector.fit(X.values, y.values)\n",
    "\n",
    "# check selected features - first 5 features are selected\n",
    "feat_selector.support_\n",
    "\n",
    "# check ranking of features\n",
    "feat_selector.ranking_\n",
    "\n",
    "# call transform() on X to filter it down to selected features\n",
    "X_filtered = feat_selector.transform(X.values)"
   ]
  },
  {
   "cell_type": "markdown",
   "metadata": {},
   "source": [
    "### After feature pruning"
   ]
  },
  {
   "cell_type": "code",
   "execution_count": 13,
   "metadata": {},
   "outputs": [
    {
     "data": {
      "text/html": [
       "<div>\n",
       "<style>\n",
       "    .dataframe thead tr:only-child th {\n",
       "        text-align: right;\n",
       "    }\n",
       "\n",
       "    .dataframe thead th {\n",
       "        text-align: left;\n",
       "    }\n",
       "\n",
       "    .dataframe tbody tr th {\n",
       "        vertical-align: top;\n",
       "    }\n",
       "</style>\n",
       "<table border=\"1\" class=\"dataframe\">\n",
       "  <thead>\n",
       "    <tr style=\"text-align: right;\">\n",
       "      <th></th>\n",
       "      <th>device</th>\n",
       "      <th>ip_day_hour_clicks</th>\n",
       "      <th>ip_os_day_hour_clicks</th>\n",
       "      <th>ip_device_day_hour_clicks</th>\n",
       "      <th>ip_day_test_hh_clicks</th>\n",
       "      <th>ip_app_device_clicks</th>\n",
       "      <th>ip_app_device_day_clicks</th>\n",
       "      <th>ip_day_nunique_app</th>\n",
       "      <th>ip_day_nunique_channel</th>\n",
       "      <th>ip_day_nunique_hour</th>\n",
       "      <th>...</th>\n",
       "      <th>ip_device_os_day_nunique_app</th>\n",
       "      <th>ip_device_os_nunique_app</th>\n",
       "      <th>ip_app_day_var_hour</th>\n",
       "      <th>ip_os_day_var_hour</th>\n",
       "      <th>ip_day_cumcount</th>\n",
       "      <th>ip_cumcount</th>\n",
       "      <th>ip_app_day_cumcount</th>\n",
       "      <th>ip_app_cumcount</th>\n",
       "      <th>ip_device_os_day_cumcount</th>\n",
       "      <th>ip_device_os_cumcount</th>\n",
       "    </tr>\n",
       "  </thead>\n",
       "  <tbody>\n",
       "    <tr>\n",
       "      <th>184803890</th>\n",
       "      <td>1</td>\n",
       "      <td>11373</td>\n",
       "      <td>66</td>\n",
       "      <td>10208</td>\n",
       "      <td>28481</td>\n",
       "      <td>1252</td>\n",
       "      <td>1209</td>\n",
       "      <td>130</td>\n",
       "      <td>144</td>\n",
       "      <td>24</td>\n",
       "      <td>...</td>\n",
       "      <td>36</td>\n",
       "      <td>38</td>\n",
       "      <td>6.353009</td>\n",
       "      <td>31.078529</td>\n",
       "      <td>64128</td>\n",
       "      <td>48473</td>\n",
       "      <td>1188</td>\n",
       "      <td>1231</td>\n",
       "      <td>653</td>\n",
       "      <td>1609</td>\n",
       "    </tr>\n",
       "    <tr>\n",
       "      <th>184803891</th>\n",
       "      <td>1</td>\n",
       "      <td>256</td>\n",
       "      <td>15</td>\n",
       "      <td>252</td>\n",
       "      <td>721</td>\n",
       "      <td>2424</td>\n",
       "      <td>624</td>\n",
       "      <td>51</td>\n",
       "      <td>96</td>\n",
       "      <td>24</td>\n",
       "      <td>...</td>\n",
       "      <td>17</td>\n",
       "      <td>23</td>\n",
       "      <td>37.545780</td>\n",
       "      <td>24.670393</td>\n",
       "      <td>4830</td>\n",
       "      <td>16741</td>\n",
       "      <td>530</td>\n",
       "      <td>1899</td>\n",
       "      <td>27</td>\n",
       "      <td>134</td>\n",
       "    </tr>\n",
       "    <tr>\n",
       "      <th>184803892</th>\n",
       "      <td>1</td>\n",
       "      <td>29386</td>\n",
       "      <td>6651</td>\n",
       "      <td>26395</td>\n",
       "      <td>14086</td>\n",
       "      <td>38496</td>\n",
       "      <td>58967</td>\n",
       "      <td>188</td>\n",
       "      <td>133</td>\n",
       "      <td>24</td>\n",
       "      <td>...</td>\n",
       "      <td>60</td>\n",
       "      <td>95</td>\n",
       "      <td>40.062443</td>\n",
       "      <td>37.247540</td>\n",
       "      <td>45828</td>\n",
       "      <td>58202</td>\n",
       "      <td>52702</td>\n",
       "      <td>4786</td>\n",
       "      <td>7756</td>\n",
       "      <td>51924</td>\n",
       "    </tr>\n",
       "    <tr>\n",
       "      <th>184803893</th>\n",
       "      <td>1</td>\n",
       "      <td>232</td>\n",
       "      <td>20</td>\n",
       "      <td>231</td>\n",
       "      <td>1145</td>\n",
       "      <td>446</td>\n",
       "      <td>128</td>\n",
       "      <td>45</td>\n",
       "      <td>97</td>\n",
       "      <td>24</td>\n",
       "      <td>...</td>\n",
       "      <td>34</td>\n",
       "      <td>45</td>\n",
       "      <td>43.902988</td>\n",
       "      <td>29.981924</td>\n",
       "      <td>6041</td>\n",
       "      <td>19346</td>\n",
       "      <td>107</td>\n",
       "      <td>314</td>\n",
       "      <td>1523</td>\n",
       "      <td>4047</td>\n",
       "    </tr>\n",
       "    <tr>\n",
       "      <th>184803894</th>\n",
       "      <td>1</td>\n",
       "      <td>104</td>\n",
       "      <td>36</td>\n",
       "      <td>104</td>\n",
       "      <td>150</td>\n",
       "      <td>32</td>\n",
       "      <td>32</td>\n",
       "      <td>33</td>\n",
       "      <td>98</td>\n",
       "      <td>15</td>\n",
       "      <td>...</td>\n",
       "      <td>17</td>\n",
       "      <td>17</td>\n",
       "      <td>21.286291</td>\n",
       "      <td>6.600000</td>\n",
       "      <td>586</td>\n",
       "      <td>586</td>\n",
       "      <td>30</td>\n",
       "      <td>30</td>\n",
       "      <td>50</td>\n",
       "      <td>50</td>\n",
       "    </tr>\n",
       "  </tbody>\n",
       "</table>\n",
       "<p>5 rows × 27 columns</p>\n",
       "</div>"
      ],
      "text/plain": [
       "           device  ip_day_hour_clicks  ip_os_day_hour_clicks  \\\n",
       "184803890       1               11373                     66   \n",
       "184803891       1                 256                     15   \n",
       "184803892       1               29386                   6651   \n",
       "184803893       1                 232                     20   \n",
       "184803894       1                 104                     36   \n",
       "\n",
       "           ip_device_day_hour_clicks  ip_day_test_hh_clicks  \\\n",
       "184803890                      10208                  28481   \n",
       "184803891                        252                    721   \n",
       "184803892                      26395                  14086   \n",
       "184803893                        231                   1145   \n",
       "184803894                        104                    150   \n",
       "\n",
       "           ip_app_device_clicks  ip_app_device_day_clicks  ip_day_nunique_app  \\\n",
       "184803890                  1252                      1209                 130   \n",
       "184803891                  2424                       624                  51   \n",
       "184803892                 38496                     58967                 188   \n",
       "184803893                   446                       128                  45   \n",
       "184803894                    32                        32                  33   \n",
       "\n",
       "           ip_day_nunique_channel  ip_day_nunique_hour          ...            \\\n",
       "184803890                     144                   24          ...             \n",
       "184803891                      96                   24          ...             \n",
       "184803892                     133                   24          ...             \n",
       "184803893                      97                   24          ...             \n",
       "184803894                      98                   15          ...             \n",
       "\n",
       "           ip_device_os_day_nunique_app  ip_device_os_nunique_app  \\\n",
       "184803890                            36                        38   \n",
       "184803891                            17                        23   \n",
       "184803892                            60                        95   \n",
       "184803893                            34                        45   \n",
       "184803894                            17                        17   \n",
       "\n",
       "           ip_app_day_var_hour  ip_os_day_var_hour  ip_day_cumcount  \\\n",
       "184803890             6.353009           31.078529            64128   \n",
       "184803891            37.545780           24.670393             4830   \n",
       "184803892            40.062443           37.247540            45828   \n",
       "184803893            43.902988           29.981924             6041   \n",
       "184803894            21.286291            6.600000              586   \n",
       "\n",
       "           ip_cumcount  ip_app_day_cumcount  ip_app_cumcount  \\\n",
       "184803890        48473                 1188             1231   \n",
       "184803891        16741                  530             1899   \n",
       "184803892        58202                52702             4786   \n",
       "184803893        19346                  107              314   \n",
       "184803894          586                   30               30   \n",
       "\n",
       "           ip_device_os_day_cumcount  ip_device_os_cumcount  \n",
       "184803890                        653                   1609  \n",
       "184803891                         27                    134  \n",
       "184803892                       7756                  51924  \n",
       "184803893                       1523                   4047  \n",
       "184803894                         50                     50  \n",
       "\n",
       "[5 rows x 27 columns]"
      ]
     },
     "execution_count": 13,
     "metadata": {},
     "output_type": "execute_result"
    }
   ],
   "source": [
    "X.loc[:, feat_selector.support_].head(5)"
   ]
  },
  {
   "cell_type": "code",
   "execution_count": 14,
   "metadata": {},
   "outputs": [
    {
     "data": {
      "text/plain": [
       "Index(['device', 'ip_day_hour_clicks', 'ip_os_day_hour_clicks',\n",
       "       'ip_device_day_hour_clicks', 'ip_day_test_hh_clicks',\n",
       "       'ip_app_device_clicks', 'ip_app_device_day_clicks',\n",
       "       'ip_day_nunique_app', 'ip_day_nunique_channel', 'ip_day_nunique_hour',\n",
       "       'ip_nunique_app', 'ip_nunique_channel', 'ip_nunique_hour',\n",
       "       'app_day_nunique_channel', 'app_nunique_channel',\n",
       "       'ip_app_day_nunique_os', 'ip_app_nunique_os',\n",
       "       'ip_device_os_day_nunique_app', 'ip_device_os_nunique_app',\n",
       "       'ip_app_day_var_hour', 'ip_os_day_var_hour', 'ip_day_cumcount',\n",
       "       'ip_cumcount', 'ip_app_day_cumcount', 'ip_app_cumcount',\n",
       "       'ip_device_os_day_cumcount', 'ip_device_os_cumcount'],\n",
       "      dtype='object')"
      ]
     },
     "execution_count": 14,
     "metadata": {},
     "output_type": "execute_result"
    }
   ],
   "source": [
    "X.loc[:, feat_selector.support_].columns"
   ]
  }
 ],
 "metadata": {
  "kernelspec": {
   "display_name": "Python 3",
   "language": "python",
   "name": "python3"
  },
  "language_info": {
   "codemirror_mode": {
    "name": "ipython",
    "version": 3
   },
   "file_extension": ".py",
   "mimetype": "text/x-python",
   "name": "python",
   "nbconvert_exporter": "python",
   "pygments_lexer": "ipython3",
   "version": "3.6.3"
  }
 },
 "nbformat": 4,
 "nbformat_minor": 2
}
